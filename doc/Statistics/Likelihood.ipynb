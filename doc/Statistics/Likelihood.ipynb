{
 "cells": [
  {
   "cell_type": "markdown",
   "metadata": {},
   "source": [
    "For the notebook to be opertaional you can use this environment \n",
    "     \n",
    "      source /afs/cern.ch/user/k/kostams/public/VirtualEnv/env.sh"
   ]
  },
  {
   "cell_type": "code",
   "execution_count": 2,
   "metadata": {
    "collapsed": false
   },
   "outputs": [
    {
     "name": "stdout",
     "output_type": "stream",
     "text": [
      "Populating the interactive namespace from numpy and matplotlib\n"
     ]
    }
   ],
   "source": [
    "%pylab inline\n",
    "import pandas as pd\n",
    "import numpy  as np"
   ]
  },
  {
   "cell_type": "code",
   "execution_count": 3,
   "metadata": {
    "collapsed": false
   },
   "outputs": [],
   "source": [
    "import seaborn as s\n",
    "from matplotlib.colors import LogNorm\n",
    "s.set(rc={'image.cmap': \"jet\"})\n",
    "figsize(12,10)\n",
    "rcParams['figure.facecolor'] = (1,1,1,1)\n",
    "rcParams['savefig.facecolor'] = (1,1,1,1)"
   ]
  },
  {
   "cell_type": "code",
   "execution_count": 4,
   "metadata": {
    "collapsed": true
   },
   "outputs": [],
   "source": [
    "def plot_matrix(frame, **args):\n",
    "    from matplotlib.colors import LogNorm\n",
    "    x,y = np.meshgrid(np.array(frame.index,   dtype=float),\n",
    "                      np.array(frame.columns, dtype=float))\n",
    "    z = frame.T.values.astype(float)\n",
    "    ret = gca().pcolor(y,x,z, **args)\n",
    "    (lambda x: xlim(x[0],x[-1]))(frame.columns)\n",
    "    (lambda x: ylim(x[0],x[-1]))(frame.index  ) \n",
    "    return ret"
   ]
  },
  {
   "cell_type": "markdown",
   "metadata": {},
   "source": [
    "# This creates the resolution tensors and writes them to csvs"
   ]
  },
  {
   "cell_type": "code",
   "execution_count": 5,
   "metadata": {
    "collapsed": true
   },
   "outputs": [],
   "source": [
    "# There are the bins from the JS app\n",
    "betaTheoretic = np.array([ \n",
    "    0.4, 0.4147083427294357, 0.4297280251026429, 0.4450403909356994, 0.4606240084534386, 0.4764546384120651, \n",
    "         0.4925052439125105, 0.5087460471842641, 0.5251446378598004, 0.5416661361701296, 0.5582734130726269, \n",
    "         0.5749273675970504, 0.5915872597150694, 0.6082110948808858, 0.6247560541596080, 0.6411789616808273, \n",
    "         0.6574367791650310, 0.6734871156098977, 0.6892887390214797, 0.7048020764378558, 0.7199896884909629, \n",
    "         0.7348167054129555, 0.7492512126947839, 0.7632645764764647, 0.7768317010774621, 0.7899312137155933, \n",
    "         0.8025455742483953, 0.8146611105322752, 0.8262679825729968, 0.8373600809008588, 0.8479348664431029, \n",
    "         0.8579931605210849, 0.8675388944464776, 0.8765788285418612, 0.8851222503098053, 0.8931806609871203, \n",
    "         0.9007674589276944, 0.9078976272444162, 0.9145874319927806, 0.9208541359733099, 0.9267157320331831, \n",
    "         0.9321906986122767, 0.9372977792440818, 0.9420557868130696, 0.9464834326004606, 0.9505991795234627, \n",
    "         0.9544211184844238, 0.9579668663859606, 0.9612534841221809, 0.9642974127088534, 0.9671144256503917,\n",
    "         0.9697195956427809, 0.9721272737641616, 0.9743510793953442, 0.9764038992294443, 0.9782978938634144, \n",
    "         0.9800445106065235, 0.9816545012855892, 0.9831379439691663, 0.9845042676694992, 0.9857622792093981, \n",
    "         0.9869201915597940, 0.9879856530617125, 0.9889657770435114, 0.9898671714305440, 0.9906959680203582, \n",
    "         0.9914578511627253, 0.9921580856409233, 0.9928015435995934, 0.9933927304059403, 0.9939358093658833, \n",
    "         0.9944346252457511, 0.9948927265739774, 0.9953133867166960, 0.9956996237367265, 0.9960542190577868, \n",
    "         0.9963797349653267, 0.9966785309825973, 0.9969527791658416, 0.9972044783661363, 0.9974354675077245, \n",
    "         0.9976474379339008, 0.9978419448718635, 0.9980204180675922, 0.9981841716409147, 0.9983344132096104, \n",
    "         0.9984722523297661, 0.9985987082977400, 0.9987147173570756, 0.9988211393515946, 0.9989187638637343, \n",
    "         0.9990083158750230, 0.9990904609834247, 0.9991658102101691, 0.9992349244266255, 0.9992983184297834, \n",
    "         0.9993564646930042, 0.9994097968168774, 0.9994587127032906, 0.9995035774741808, 0.9995447261548852,\n",
    "         0.9995824661405623, 0.9996170794627837, 0.9996488248721179, 0.9996779397513396, 0.9997046418727785 \n",
    "])\n",
    "mp, md = 0.9382, 1.8756\n",
    "rgdtTheoretic = mp * betaTheoretic / np.sqrt(1 - betaTheoretic**2)"
   ]
  },
  {
   "cell_type": "code",
   "execution_count": 6,
   "metadata": {
    "collapsed": true
   },
   "outputs": [],
   "source": [
    "from bq_hist import get_hist_series"
   ]
  },
  {
   "cell_type": "code",
   "execution_count": 7,
   "metadata": {
    "collapsed": true
   },
   "outputs": [],
   "source": [
    "betaMeasured=np.linspace(0.4,1.5,100)\n",
    "rgdtMeasured=np.linspace(0.0, 15,151)"
   ]
  },
  {
   "cell_type": "code",
   "execution_count": 18,
   "metadata": {
    "collapsed": false
   },
   "outputs": [
    {
     "name": "stdout",
     "output_type": "stream",
     "text": [
      "Job not yet complete...\n",
      "Job not yet complete...\n",
      "Job not yet complete...\n",
      "Job not yet complete...\n"
     ]
    }
   ],
   "source": [
    "genBeta = \"GenMomentum/SQRT(0.88022 + POW(GenMomentum,2))\"\n",
    "varNames = [('BetaTOF',  'Beta',   betaMeasured ),\n",
    "            ('R',        'R',   rgdtMeasured ),\n",
    "            (genBeta,    'TrueB', betaTheoretic)]\n",
    "\n",
    "# Read proton MC\n",
    "seriesB1034 = get_hist_series('AMS.protonsB1034',varNames)\n",
    "seriesB800  = get_hist_series('AMS.protonsB800', varNames)\n",
    "\n",
    "# Read deuteron MC\n",
    "genBeta = \"GenMomentum/SQRT(3.515625 + POW(GenMomentum,2))\"\n",
    "varNames = [('BetaTOF',  'Beta',   betaMeasured ),\n",
    "            ('R',        'R',   rgdtMeasured ),\n",
    "            (genBeta,    'TrueB', betaTheoretic)]\n",
    "seriesDeut = get_hist_series('AMS.dB1030_GG_Blic',varNames)\n",
    "\n",
    "#Read Data\n",
    "seriesData = get_hist_series('AMS.Data',varNames[:-1])"
   ]
  },
  {
   "cell_type": "code",
   "execution_count": 19,
   "metadata": {
    "collapsed": false
   },
   "outputs": [],
   "source": [
    "save = False\n",
    "if save:\n",
    "    import gzip\n",
    "    seriesB1034.to_csv(gzip.open(\"seriesB1034.csv.gz\",\"w\"))\n",
    "    seriesB800.to_csv( gzip.open(\"seriesB800.csv.gz\",\"w\"))\n",
    "    seriesData.to_csv(gzip.open(\"seriesData.csv.gz\",\"w\"))\n",
    "    seriesDeut.to_csv(gzip.open(\"seriesDeuterons.csv.gz\",\"w\"))"
   ]
  },
  {
   "cell_type": "markdown",
   "metadata": {},
   "source": [
    "# Load the csvs and do the work"
   ]
  },
  {
   "cell_type": "code",
   "execution_count": 20,
   "metadata": {
    "collapsed": true
   },
   "outputs": [],
   "source": [
    "load = False\n",
    "if load:\n",
    "    import gzip \n",
    "    args = { \"header\":None, \"index_col\": [0,1,2]}\n",
    "\n",
    "    seriesB1034 = pd.Series.from_csv(gzip.open(\"seriesB1034.csv.gz\",\"r\"), **args)\n",
    "    seriesB1034.index.names = ['Beta','R','TrueB']\n",
    "\n",
    "    seriesB800  = pd.Series.from_csv(gzip.open(\"seriesB800.csv.gz\",\"r\"), **args)\n",
    "    seriesB800.index.names = ['Beta','R','TrueB']\n",
    "\n",
    "    seriesDeut  = pd.Series.from_csv(gzip.open(\"seriesDeuterons.csv.gz\",\"r\"), **args)\n",
    "    seriesDeut.index.names = ['Beta','R','TrueB']\n",
    "\n",
    "    args['index_col'] = [0,1]\n",
    "    seriesData  = pd.Series.from_csv(gzip.open(\"seriesData.csv.gz\",\"r\"), **args)\n",
    "    seriesData.index.names = ['Beta','R']"
   ]
  },
  {
   "cell_type": "code",
   "execution_count": 21,
   "metadata": {
    "collapsed": false
   },
   "outputs": [],
   "source": [
    "def expectedCounts(resolutions,fluxes,mask=None):\n",
    "    \"\"\" Makes expectd counts given a list of fluxes and a list of resolution matrices\"\"\"\n",
    "    expected = None\n",
    "    for res,flux in zip(resolutions,fluxes):\n",
    "        if expected is None:\n",
    "            expected  = res.unstack(level=2).dot(flux)\n",
    "        else:\n",
    "            expected += res.unstack(level=2).dot(flux)\n",
    "    if mask: expected[mask]=0\n",
    "    return expected\n",
    "\n",
    "def logLikelihood(obs, resolutions, fluxes, mask=None):\n",
    "    \"\"\" Poissonian log likelihood for observed data and test fluxes\"\"\"\n",
    "    expected = expectedCounts(resolutions, fluxes, mask)\n",
    "    logP = obs * np.log(expected) - expected\n",
    "    logP[expected < 1e-99] = 0\n",
    "    return logP.sum()\n",
    "\n",
    "def gradLogLikelihood(obs, resolutions, fluxes, mask=None):\n",
    "    \"\"\" This calculates the gradient of the logLikelihood above at a given point\"\"\"\n",
    "    expected = expectedCounts(resolutions, fluxes, mask)\n",
    "    v = obs / expected - 1\n",
    "    v[expected < 1e-99] = -1\n",
    "    return [res.unstack(level=[0,1]).dot(v) for res in resolutions] "
   ]
  },
  {
   "cell_type": "code",
   "execution_count": 22,
   "metadata": {
    "collapsed": false
   },
   "outputs": [
    {
     "data": {
      "text/plain": [
       "False"
      ]
     },
     "execution_count": 22,
     "metadata": {},
     "output_type": "execute_result"
    }
   ],
   "source": [
    "# Numerical check that the gradient is ok\n",
    "# Takes about 2 minutes\n",
    "# Set frame = True to run\n",
    "frame = False\n",
    "\n",
    "flux = pd.Series(1, seriesB1034.index.levels[2])\n",
    "ll = logLikelihood(seriesData, [seriesB800], [flux])\n",
    "\n",
    "if frame:\n",
    "    df, ngrad = 0.00001, []\n",
    "    for i in range(len(flux)):\n",
    "        print i,\n",
    "        nflux = flux.copy()\n",
    "        nflux.iloc[i] += df\n",
    "        ngrad.append(logLikelihood(seriesData, [seriesB800], [nflux]) - ll)\n",
    "    \n",
    "    frame = pd.DataFrame({\n",
    "        'ngrad':pd.Series(ngrad, index=flux.index)/df,\n",
    "        'grad':gradLogLikelihood(seriesData, [seriesB800], [flux])[0]\n",
    "    })\n",
    "    \n",
    "frame"
   ]
  },
  {
   "cell_type": "markdown",
   "metadata": {
    "collapsed": false
   },
   "source": [
    "# Masking (inclomplete)"
   ]
  },
  {
   "cell_type": "code",
   "execution_count": 69,
   "metadata": {
    "collapsed": true
   },
   "outputs": [],
   "source": [
    "# proton \"flux\" is  flat 1\n",
    "# deuteron is flat 0.1 \n",
    "fluxP = pd.Series(1.0,seriesB1034.index.levels[2])\n",
    "fluxD = pd.Series(0.1,seriesB1034.index.levels[2])"
   ]
  },
  {
   "cell_type": "code",
   "execution_count": 70,
   "metadata": {
    "collapsed": false
   },
   "outputs": [
    {
     "data": {
      "text/plain": [
       "<matplotlib.collections.PolyCollection at 0x1a73ded0>"
      ]
     },
     "execution_count": 70,
     "metadata": {},
     "output_type": "execute_result"
    },
    {
     "data": {
      "image/png": "[encoded data removed]",
      "text/plain": [
       "<matplotlib.figure.Figure at 0x23d46dd0>"
      ]
     },
     "metadata": {},
     "output_type": "display_data"
    }
   ],
   "source": [
    "mp,md = 0.938, 1.875\n",
    "def R_from_beta(beta, m=mp):\n",
    "    return m*beta/np.sqrt(1-beta*beta)\n",
    "def beta_from_R(R, m=mp):\n",
    "    return R/np.sqrt(R**2+m**2)\n",
    "\n",
    "expected = expectedCounts([seriesB800,seriesDeut], [fluxP,fluxD])\n",
    "\n",
    "frame = expected.reset_index()\n",
    "frame['mask'] = (frame['Beta'] > 0) & (frame['R'] > -0.1)\n",
    "frame['mask'] &= np.abs(frame['Beta'] - beta_from_R(frame['R'],mp)) > 0.1\n",
    "frame['mask'] &= np.abs(frame['Beta'] - beta_from_R(frame['R'],md)) > 0.1\n",
    "#frame['mask'] &= np.abs(frame['R'] - R_from_beta(frame['Beta'],mp)) > 1\n",
    "#frame['mask'] &= np.abs(frame['R'] - R_from_beta(frame['Beta'],md)) > 1\n",
    "\n",
    "#plot_matrix(expected,norm=LogNorm(vmin=10**(-5),vmax=10000))\n",
    "mask = frame.set_index(['Beta','R'])['mask']\n",
    "\n",
    "expected[mask] = 0\n",
    "plot_matrix(expected.unstack().iloc[1:,1:],norm=LogNorm(vmin=10**(-5),vmax=10000))\n"
   ]
  },
  {
   "cell_type": "markdown",
   "metadata": {},
   "source": [
    "# Gradient descent (not even started)"
   ]
  },
  {
   "cell_type": "markdown",
   "metadata": {},
   "source": [
    "# Plots for presentation"
   ]
  },
  {
   "cell_type": "code",
   "execution_count": 44,
   "metadata": {
    "collapsed": true
   },
   "outputs": [],
   "source": [
    "idx = seriesB1034.index.levels[2]\n",
    "idMatr = pd.DataFrame(np.diag([1]*len(idx)), index=idx, columns=idx)"
   ]
  },
  {
   "cell_type": "code",
   "execution_count": 67,
   "metadata": {
    "collapsed": false
   },
   "outputs": [
    {
     "data": {
      "image/png": "[encoded data removed]",
      "text/plain": [
       "<matplotlib.figure.Figure at 0x23d51410>"
      ]
     },
     "metadata": {},
     "output_type": "display_data"
    }
   ],
   "source": [
    "# Demonstration\n",
    "figsize(10,6)\n",
    "\n",
    "fluxP = idMatr.iloc[50]+idMatr.iloc[30]+idMatr.iloc[70]\n",
    "fluxD = 0.1*(idMatr.iloc[35] + idMatr.iloc[45])\n",
    "\n",
    "#fluxP = pd.Series(0.0,index=idMatr.index);fluxP *= (1+2*np.arctan((fluxP.index.map(R_from_beta)-2)*7)/np.pi)/2\n",
    "#fluxD = pd.Series(0.1,index=idMatr.index);fluxD *= (1+2*np.arctan((fluxP.index.map(R_from_beta)-2)*20)/np.pi)/2\n",
    "\n",
    "subplot2grid((4,1),(0,0),rowspan=3)\n",
    "plot_matrix( \n",
    "    seriesB800.unstack(level=2).dot(fluxP).unstack() + \n",
    "    seriesDeut.unstack(level=2).dot(fluxD).unstack(),\n",
    "    norm=LogNorm(vmin=10**(-5),vmax=20000)\n",
    ")\n",
    "\n",
    "ylabel(\"$\\\\beta$ TOF\")\n",
    "xlim(0,10); ylim(0.4,1.2)\n",
    "subplot2grid((4,1),(3,0))\n",
    "\n",
    "fluxP.index = fluxP.index.map(R_from_beta); \n",
    "plot(fluxP.index, fluxP.values, drawstyle=\"steps\", color='r', label='Proton')\n",
    "fluxD.index = fluxD.index.map(R_from_beta); \n",
    "plot(fluxD.index, fluxD.values, drawstyle=\"steps\", color='b', label='Deuteron')\n",
    "xlabel(\"Rigidity\"); ylabel(\"True counts\")\n",
    "xlim(0,10);         ylim(0,1.2)\n",
    "yticks([]); legend(loc=4)\n",
    "tight_layout()"
   ]
  }
 ],
 "metadata": {
  "kernelspec": {
   "display_name": "Python 2",
   "language": "python",
   "name": "python2"
  },
  "language_info": {
   "codemirror_mode": {
    "name": "ipython",
    "version": 2
   },
   "file_extension": ".py",
   "mimetype": "text/x-python",
   "name": "python",
   "nbconvert_exporter": "python",
   "pygments_lexer": "ipython2",
   "version": "2.7.6"
  }
 },
 "nbformat": 4,
 "nbformat_minor": 0
}
