{
 "cells": [
  {
   "cell_type": "markdown",
   "metadata": {},
   "source": [
    "For the notebook to be opertaional you can use this environment \n",
    "     \n",
    "      source /afs/cern.ch/user/k/kostams/public/VirtualEnv/env.sh"
   ]
  },
  {
   "cell_type": "code",
   "execution_count": 1,
   "metadata": {
    "collapsed": false
   },
   "outputs": [
    {
     "name": "stdout",
     "output_type": "stream",
     "text": [
      "Populating the interactive namespace from numpy and matplotlib\n"
     ]
    }
   ],
   "source": [
    "%pylab inline\n",
    "import numpy  as np\n",
    "import pandas as pd"
   ]
  },
  {
   "cell_type": "code",
   "execution_count": 2,
   "metadata": {
    "collapsed": false
   },
   "outputs": [],
   "source": [
    "import seaborn as s\n",
    "from matplotlib.colors import LogNorm\n",
    "s.set(rc={'image.cmap': \"jet\"})\n",
    "figsize(12,10)\n",
    "rcParams['figure.facecolor'] = (1,1,1,1)\n",
    "rcParams['savefig.facecolor'] = (1,1,1,1)"
   ]
  },
  {
   "cell_type": "code",
   "execution_count": 3,
   "metadata": {
    "collapsed": true
   },
   "outputs": [],
   "source": [
    "def plot_matrix(frame, **args):\n",
    "    from matplotlib.colors import LogNorm\n",
    "    x,y = np.meshgrid(np.array(frame.index,   dtype=float),\n",
    "                      np.array(frame.columns, dtype=float))\n",
    "    z = frame.T.values.astype(float)\n",
    "    ret = gca().pcolor(y,x,z, **args)\n",
    "    (lambda x: xlim(x[0],x[-1]))(frame.columns)\n",
    "    (lambda x: ylim(x[0],x[-1]))(frame.index  ) \n",
    "    return ret"
   ]
  },
  {
   "cell_type": "markdown",
   "metadata": {},
   "source": [
    "# Load the csvs and prepare the sets"
   ]
  },
  {
   "cell_type": "code",
   "execution_count": 4,
   "metadata": {
    "collapsed": true
   },
   "outputs": [],
   "source": [
    "load = True\n",
    "if load:\n",
    "    import gzip \n",
    "    args = { \"header\":None, \"index_col\": [0,1,2]}\n",
    "\n",
    "    seriesB1034 = pd.Series.from_csv(gzip.open(\"seriesB1034.csv.gz\",\"r\"), **args)\n",
    "    seriesB1034.index.names = ['Beta','R','TrueB']\n",
    "\n",
    "    seriesB800  = pd.Series.from_csv(gzip.open(\"seriesB800.csv.gz\",\"r\"), **args)\n",
    "    seriesB800.index.names = ['Beta','R','TrueB']\n",
    "\n",
    "    seriesDeut  = pd.Series.from_csv(gzip.open(\"seriesDeuterons.csv.gz\",\"r\"), **args)\n",
    "    seriesDeut.index.names = ['Beta','R','TrueB']\n",
    "\n",
    "    args['index_col'] = [0,1]\n",
    "    seriesData  = pd.Series.from_csv(gzip.open(\"seriesData.csv.gz\",\"r\"), **args)\n",
    "    seriesData.index.names = ['Beta','R']"
   ]
  },
  {
   "cell_type": "code",
   "execution_count": 5,
   "metadata": {
    "collapsed": true
   },
   "outputs": [],
   "source": [
    "resP = seriesB800.sort_index().loc[0:,0:,0:]\n",
    "resP = resP.unstack().fillna(0).stack()\n",
    "resD = seriesDeut.sort_index().loc[0:,0:,0:]\n",
    "resD = resD.unstack().fillna(0).stack()\n",
    "obs  = seriesData.sort_index().loc[0:,0:]"
   ]
  },
  {
   "cell_type": "markdown",
   "metadata": {
    "collapsed": false
   },
   "source": [
    "# Masking"
   ]
  },
  {
   "cell_type": "code",
   "execution_count": 6,
   "metadata": {
    "collapsed": true
   },
   "outputs": [],
   "source": [
    "def expectedCounts(resolutions,fluxes,mask=None):\n",
    "    \"\"\" Makes expectd counts given a list of fluxes and a list of resolution matrices\"\"\"\n",
    "    expected = None\n",
    "    for res,flux in zip(resolutions,fluxes):\n",
    "        if expected is None:\n",
    "            expected  = res.unstack(level=2).dot(flux)\n",
    "        else:\n",
    "            expected += res.unstack(level=2).dot(flux)\n",
    "    if mask is not None: expected[mask]=0\n",
    "    return expected"
   ]
  },
  {
   "cell_type": "code",
   "execution_count": 76,
   "metadata": {
    "collapsed": false
   },
   "outputs": [
    {
     "data": {
      "text/plain": [
       "<matplotlib.collections.PolyCollection at 0x36d86c10>"
      ]
     },
     "execution_count": 76,
     "metadata": {},
     "output_type": "execute_result"
    },
    {
     "data": {
      "image/png": "[encoded data removed]",
      "text/plain": [
       "<matplotlib.figure.Figure at 0x36d66a10>"
      ]
     },
     "metadata": {},
     "output_type": "display_data"
    }
   ],
   "source": [
    "figsize(10,4)\n",
    "mp,md = 0.938, 1.875\n",
    "def R_from_beta(beta, m=mp):\n",
    "    return m*beta/np.sqrt(1-beta*beta)\n",
    "def Ek_from_beta(beta):\n",
    "    return mp/np.sqrt(1-beta*beta) - mp\n",
    "def beta_from_R(R, m=mp):\n",
    "    return R/np.sqrt(R**2+m**2)\n",
    "\n",
    "oneFlx = pd.Series(1.0,resP.index.levels[2])\n",
    "expected = expectedCounts([resP, resD], [oneFlx,oneFlx])\n",
    "\n",
    "tframe = expected.reset_index()\n",
    "tframe['mask']  = tframe['Beta'] - beta_from_R(tframe['R'], mp) > 0.12\n",
    "tframe['mask'] |= tframe['Beta'] < 0.6\n",
    "tframe['mask'] |= tframe['R']    < 0.5\n",
    "tframe.set_index(['Beta','R'], inplace=True)\n",
    "mask = tframe['mask'] | (expected < 100)\n",
    "\n",
    "expected[mask] = 0\n",
    "plot_matrix(expected.unstack().iloc[1:,1:],norm=LogNorm(vmin=10**(-5),vmax=10))"
   ]
  },
  {
   "cell_type": "markdown",
   "metadata": {},
   "source": [
    "# TemplateFit"
   ]
  },
  {
   "cell_type": "code",
   "execution_count": 50,
   "metadata": {
    "collapsed": false
   },
   "outputs": [],
   "source": [
    "templates = np.concatenate([ \n",
    "    resP.unstack()[~mask].T.values, \n",
    "    resD.unstack()[~mask].T.values\n",
    "])\n",
    "data = obs[~mask].values"
   ]
  },
  {
   "cell_type": "code",
   "execution_count": 51,
   "metadata": {
    "collapsed": false
   },
   "outputs": [],
   "source": [
    "def get_exps(p, t):\n",
    "    \"\"\" This numerially solves the equations for templates\"\"\"\n",
    "    np.seterr(divide='ignore', invalid='ignore')\n",
    "    \n",
    "    p = p[:,np.newaxis]\n",
    "    for _ in range(10):\n",
    "        f =  data / (1 - t)    - ( p * templates  / (1 + t[np.newaxis,:] * p)    ).sum(axis=0)\n",
    "        fd = data / (1 - t)**2 + ((p**2)*templates/ (1 + t[np.newaxis,:] * p)**2 ).sum(axis=0)\n",
    "        t = t - f/fd\n",
    "        \n",
    "    t[np.isnan(t)] = 1\n",
    "    ex = templates / (1 + t[np.newaxis,:] * p)\n",
    "    np.seterr(divide='warn', invalid='warn')\n",
    "    return ex"
   ]
  },
  {
   "cell_type": "code",
   "execution_count": 52,
   "metadata": {
    "collapsed": true
   },
   "outputs": [],
   "source": [
    "t = np.zeros_like(data)\n",
    "fl = np.ones(templates.shape[0])"
   ]
  },
  {
   "cell_type": "code",
   "execution_count": 53,
   "metadata": {
    "collapsed": false
   },
   "outputs": [
    {
     "name": "stdout",
     "output_type": "stream",
     "text": [
      "[ 1.  1.  1.  1.  1.  1.  1.  1.  1.  1.  1.  1.  1.  1.  1.  1.  1.  1.\n",
      "  1.  1.  1.  1.  1.  1.  1.  1.  1.  1.  1.  1.  1.  1.  1.  1.  1.  1.\n",
      "  1.  1.  1.  1.  1.  1.  1.  1.  1.  1.  1.  1.  1.  1.  1.  1.  1.  1.\n",
      "  1.  1.  1.  1.  1.  1.  1.  1.  1.  1.  1.  1.  1.  1.  1.  1.  1.  1.\n",
      "  1.  1.  1.  1.  1.  1.  1.  1.  1.  1.  1.  1.  1.  1.  1.  1.  1.  1.\n",
      "  1.  1.  1.  1.  1.  1.  1.  1.  1.  1.  1.  1.  1.  1.  1.  1.  1.  1.\n",
      "  1.  1.  1.  1.  1.  1.  1.  1.  1.  1.  1.  1.  1.  1.  1.  1.  1.  1.\n",
      "  1.  1.  1.  1.  1.  1.  1.  1.  1.  1.  1.  1.  1.  1.  1.  1.  1.  1.\n",
      "  1.  1.  1.  1.  1.  1.  1.  1.  1.  1.  1.  1.  1.  1.  1.  1.  1.  1.\n",
      "  1.  1.  1.  1.  1.  1.  1.  1.  1.  1.  1.  1.  1.  1.  1.  1.  1.  1.\n",
      "  1.  1.  1.  1.  1.  1.  1.  1.  1.  1.  1.  1.  1.  1.  1.  1.  1.  1.\n",
      "  1.  1.  1.  1.  1.  1.  1.  1.  1.  1.  1.  1.  1.  1.]\n",
      "[   1.            1.            1.            1.            1.            1.\n",
      "    1.            1.            1.            1.            1.            1.\n",
      "    1.            0.58549231    0.            0.            0.            0.\n",
      "    0.            0.            0.            0.            4.74887312\n",
      "   17.24473154   27.18995182   36.75619665   46.48029437   55.7437775\n",
      "   65.50610158   75.83863114   85.27153225   96.37731216  105.73407298\n",
      "  116.62850256  128.03350842  139.25325562  150.40645714  162.07487354\n",
      "  175.70330418  186.93106566  199.62403854  213.87660756  225.72763392\n",
      "  240.20800723  252.05706764  266.17864083  278.2460414   291.04757411\n",
      "  301.81958351  313.56433054  321.43658642  327.79841048  335.98626306\n",
      "  339.33218963  345.16482997  346.90262852  348.18708458  348.23722657\n",
      "  344.94727635  342.72813093  338.8700372   332.42413052  328.22386953\n",
      "  319.13236071  309.97307192  300.45422198  291.24998788  282.13340956\n",
      "  273.88905834  263.44257699  252.91666374  244.59013129  238.0625212\n",
      "  228.57251275  220.22758532  212.43861784  203.40464434  194.14200515\n",
      "  182.88660117  169.61356853  152.09371895  130.84130339  104.4480504\n",
      "   77.21164098   50.69895822   30.56532132   16.00728693    7.6877768\n",
      "    3.60199549    1.9986402     1.49769149    1.3522571     1.20821233\n",
      "    1.19460954    1.18963566    1.13517271    1.21727391    1.15009292\n",
      "    1.14606248    1.14578895    1.0977495     1.07709134    1.05306887\n",
      "    1.11538474    1.0305122     1.            1.            1.            1.\n",
      "    1.            1.            1.            1.            1.            1.\n",
      "    1.            1.            0.99453579   17.01003003    0.            0.\n",
      "    0.            0.            0.            0.            0.            0.\n",
      "    0.            0.            0.            0.            0.            0.\n",
      "    0.            0.            1.33924547    5.27871856    8.83643577\n",
      "   11.72951429   14.49291295   16.57807489   18.75631874   20.40341091\n",
      "   22.21817345   22.76944273   23.55580891   23.89404227   24.29854136\n",
      "   24.61075879   24.5414347    24.18507241   24.00033778   23.51348784\n",
      "   22.72456695   22.35789856   21.47402886   21.00059343   19.60137333\n",
      "   18.96246174   18.31732671   17.72858031   16.81149276   16.42542638\n",
      "   14.95079498   14.25276193   13.50699356   12.76332669   12.20600559\n",
      "   11.27104383   10.21582945    8.64188193    7.03007979    5.38231587\n",
      "    3.55266983    2.4227149     1.66397697    1.36852411    1.33314148\n",
      "    1.26199337    1.21410251    1.            1.            1.            1.\n",
      "    1.            1.            1.            1.            1.            1.\n",
      "    1.            1.            1.            1.            1.            1.\n",
      "    1.            1.            1.            1.            1.            1.\n",
      "    1.            1.            1.            1.            1.            1.\n",
      "    1.            1.            1.            1.        ]\n",
      "[  1.00000000e+00   1.00000000e+00   1.00000000e+00   1.00000000e+00\n",
      "   1.00000000e+00   1.00000000e+00   1.00000000e+00   1.00000000e+00\n",
      "   1.00000000e+00   1.00000000e+00   1.00000000e+00   1.00000000e+00\n",
      "   1.00000000e+00   4.81192380e-01   0.00000000e+00   0.00000000e+00\n",
      "   0.00000000e+00   0.00000000e+00   0.00000000e+00   0.00000000e+00\n",
      "   0.00000000e+00   0.00000000e+00   0.00000000e+00   0.00000000e+00\n",
      "   0.00000000e+00   0.00000000e+00   4.33674071e+00   2.61988675e+01\n",
      "   4.21071028e+01   5.63450328e+01   6.84895074e+01   8.16231858e+01\n",
      "   9.25736087e+01   1.04729829e+02   1.17202776e+02   1.29324011e+02\n",
      "   1.41258494e+02   1.53593312e+02   1.67831165e+02   1.79568996e+02\n",
      "   1.92726905e+02   2.07416126e+02   2.19646578e+02   2.34465975e+02\n",
      "   2.46606491e+02   2.61004306e+02   2.73298305e+02   2.86296815e+02\n",
      "   2.97227631e+02   3.09108518e+02   3.17091977e+02   3.23550595e+02\n",
      "   3.31814177e+02   3.35213336e+02   3.41091422e+02   3.42846002e+02\n",
      "   3.44141825e+02   3.44186986e+02   3.40879820e+02   3.38620716e+02\n",
      "   3.34712790e+02   3.28193891e+02   3.23901953e+02   3.14701853e+02\n",
      "   3.05418752e+02   2.95753306e+02   2.86399655e+02   2.77126631e+02\n",
      "   2.68705704e+02   2.58075545e+02   2.47349047e+02   2.38812286e+02\n",
      "   2.32063399e+02   2.22359844e+02   2.13788557e+02   2.05786522e+02\n",
      "   1.96507756e+02   1.87019039e+02   1.75516769e+02   1.61996728e+02\n",
      "   1.44237020e+02   1.22753796e+02   9.60880358e+01   6.85736743e+01\n",
      "   4.16594074e+01   2.09011810e+01   4.83884037e+00   0.00000000e+00\n",
      "   0.00000000e+00   0.00000000e+00   0.00000000e+00   0.00000000e+00\n",
      "   0.00000000e+00   0.00000000e+00   0.00000000e+00   1.46219014e-01\n",
      "   3.40604006e-01   4.55404864e-01   5.06448343e-01   4.58804900e-01\n",
      "   4.17380174e-01   4.76448700e-01   5.52910979e-01   6.34947449e-01\n",
      "   5.26842616e-01   1.00000000e+00   1.00000000e+00   1.00000000e+00\n",
      "   1.00000000e+00   1.00000000e+00   1.00000000e+00   1.00000000e+00\n",
      "   1.00000000e+00   1.00000000e+00   1.00000000e+00   1.00000000e+00\n",
      "   1.00000000e+00   9.93167832e-01   1.69914900e+01   0.00000000e+00\n",
      "   0.00000000e+00   0.00000000e+00   0.00000000e+00   0.00000000e+00\n",
      "   0.00000000e+00   0.00000000e+00   0.00000000e+00   0.00000000e+00\n",
      "   0.00000000e+00   0.00000000e+00   0.00000000e+00   0.00000000e+00\n",
      "   0.00000000e+00   0.00000000e+00   0.00000000e+00   0.00000000e+00\n",
      "   0.00000000e+00   0.00000000e+00   4.02033082e+00   8.13277011e+00\n",
      "   1.09841449e+01   1.37149432e+01   1.57646441e+01   1.78308969e+01\n",
      "   1.85974932e+01   1.94838160e+01   1.99364054e+01   2.03806105e+01\n",
      "   2.07044781e+01   2.06308626e+01   2.02448757e+01   2.00037414e+01\n",
      "   1.94483285e+01   1.85638358e+01   1.80457098e+01   1.70337328e+01\n",
      "   1.63791770e+01   1.47887756e+01   1.39593808e+01   1.30963279e+01\n",
      "   1.22430001e+01   1.11054569e+01   1.03850334e+01   8.54618430e+00\n",
      "   7.50009000e+00   6.32400666e+00   5.10222252e+00   4.07403376e+00\n",
      "   2.61626467e+00   6.35443108e-01   0.00000000e+00   0.00000000e+00\n",
      "   0.00000000e+00   0.00000000e+00   0.00000000e+00   0.00000000e+00\n",
      "   0.00000000e+00   0.00000000e+00   0.00000000e+00   2.73676523e-01\n",
      "   1.00000000e+00   1.00000000e+00   1.00000000e+00   1.00000000e+00\n",
      "   1.00000000e+00   1.00000000e+00   1.00000000e+00   1.00000000e+00\n",
      "   1.00000000e+00   1.00000000e+00   1.00000000e+00   1.00000000e+00\n",
      "   1.00000000e+00   1.00000000e+00   1.00000000e+00   1.00000000e+00\n",
      "   1.00000000e+00   1.00000000e+00   1.00000000e+00   1.00000000e+00\n",
      "   1.00000000e+00   1.00000000e+00   1.00000000e+00   1.00000000e+00\n",
      "   1.00000000e+00   1.00000000e+00   1.00000000e+00   1.00000000e+00\n",
      "   1.00000000e+00   1.00000000e+00   1.00000000e+00   1.00000000e+00]\n",
      "[  1.00000000e+00   1.00000000e+00   1.00000000e+00   1.00000000e+00\n",
      "   1.00000000e+00   1.00000000e+00   1.00000000e+00   1.00000000e+00\n",
      "   1.00000000e+00   1.00000000e+00   1.00000000e+00   1.00000000e+00\n",
      "   1.00000000e+00   3.82174472e-01   0.00000000e+00   0.00000000e+00\n",
      "   0.00000000e+00   0.00000000e+00   0.00000000e+00   0.00000000e+00\n",
      "   0.00000000e+00   0.00000000e+00   0.00000000e+00   0.00000000e+00\n",
      "   0.00000000e+00   0.00000000e+00   0.00000000e+00   0.00000000e+00\n",
      "   0.00000000e+00   2.80339415e+01   4.68308331e+01   6.38727966e+01\n",
      "   7.74010481e+01   9.14033954e+01   1.05336041e+02   1.18620610e+02\n",
      "   1.31516812e+02   1.44649089e+02   1.59597587e+02   1.71913898e+02\n",
      "   1.85591836e+02   2.00762919e+02   2.13405033e+02   2.28590813e+02\n",
      "   2.41042395e+02   2.55733369e+02   2.68266256e+02   2.81471804e+02\n",
      "   2.92568788e+02   3.04591830e+02   3.12690957e+02   3.19249451e+02\n",
      "   3.27591801e+02   3.31045779e+02   3.36971114e+02   3.38742979e+02\n",
      "   3.40050593e+02   3.40090498e+02   3.36765365e+02   3.34464846e+02\n",
      "   3.30505465e+02   3.23910613e+02   3.19523952e+02   3.10210566e+02\n",
      "   3.00798235e+02   2.90979409e+02   2.81469138e+02   2.72031518e+02\n",
      "   2.63424589e+02   2.52599517e+02   2.41658939e+02   2.32897730e+02\n",
      "   2.25912617e+02   2.15977507e+02   2.07159885e+02   1.98924128e+02\n",
      "   1.89374041e+02   1.79630343e+02   1.67843720e+02   1.54028724e+02\n",
      "   1.35959823e+02   1.14141590e+02   8.70060848e+01   5.88402406e+01\n",
      "   3.05465815e+01   5.17910012e+00   0.00000000e+00   0.00000000e+00\n",
      "   0.00000000e+00   0.00000000e+00   0.00000000e+00   0.00000000e+00\n",
      "   0.00000000e+00   0.00000000e+00   0.00000000e+00   0.00000000e+00\n",
      "   0.00000000e+00   0.00000000e+00   0.00000000e+00   0.00000000e+00\n",
      "   0.00000000e+00   0.00000000e+00   6.19555102e-02   1.63264467e-01\n",
      "   3.76251415e-02   1.00000000e+00   1.00000000e+00   1.00000000e+00\n",
      "   1.00000000e+00   1.00000000e+00   1.00000000e+00   1.00000000e+00\n",
      "   1.00000000e+00   1.00000000e+00   1.00000000e+00   1.00000000e+00\n",
      "   1.00000000e+00   9.92084483e-01   1.69900825e+01   0.00000000e+00\n",
      "   0.00000000e+00   0.00000000e+00   0.00000000e+00   0.00000000e+00\n",
      "   0.00000000e+00   0.00000000e+00   0.00000000e+00   0.00000000e+00\n",
      "   0.00000000e+00   0.00000000e+00   0.00000000e+00   0.00000000e+00\n",
      "   0.00000000e+00   0.00000000e+00   0.00000000e+00   0.00000000e+00\n",
      "   0.00000000e+00   0.00000000e+00   0.00000000e+00   0.00000000e+00\n",
      "   3.43131856e+00   7.32945637e+00   1.00933904e+01   1.25930169e+01\n",
      "   1.36699426e+01   1.47154862e+01   1.53319675e+01   1.58376049e+01\n",
      "   1.61828548e+01   1.60972489e+01   1.56581147e+01   1.53264159e+01\n",
      "   1.46567435e+01   1.36007826e+01   1.28357459e+01   1.15747465e+01\n",
      "   1.05949351e+01   8.55267801e+00   7.29341624e+00   5.88942944e+00\n",
      "   4.31064991e+00   2.32286258e+00   3.12535801e-01   0.00000000e+00\n",
      "   0.00000000e+00   0.00000000e+00   0.00000000e+00   0.00000000e+00\n",
      "   0.00000000e+00   0.00000000e+00   0.00000000e+00   0.00000000e+00\n",
      "   0.00000000e+00   0.00000000e+00   0.00000000e+00   0.00000000e+00\n",
      "   0.00000000e+00   0.00000000e+00   0.00000000e+00   0.00000000e+00\n",
      "   1.00000000e+00   1.00000000e+00   1.00000000e+00   1.00000000e+00\n",
      "   1.00000000e+00   1.00000000e+00   1.00000000e+00   1.00000000e+00\n",
      "   1.00000000e+00   1.00000000e+00   1.00000000e+00   1.00000000e+00\n",
      "   1.00000000e+00   1.00000000e+00   1.00000000e+00   1.00000000e+00\n",
      "   1.00000000e+00   1.00000000e+00   1.00000000e+00   1.00000000e+00\n",
      "   1.00000000e+00   1.00000000e+00   1.00000000e+00   1.00000000e+00\n",
      "   1.00000000e+00   1.00000000e+00   1.00000000e+00   1.00000000e+00\n",
      "   1.00000000e+00   1.00000000e+00   1.00000000e+00   1.00000000e+00]\n",
      "[  1.00000000e+00   1.00000000e+00   1.00000000e+00   1.00000000e+00\n",
      "   1.00000000e+00   1.00000000e+00   1.00000000e+00   1.00000000e+00\n",
      "   1.00000000e+00   1.00000000e+00   1.00000000e+00   1.00000000e+00\n",
      "   1.00000000e+00   2.89774094e-01   0.00000000e+00   0.00000000e+00\n",
      "   0.00000000e+00   0.00000000e+00   0.00000000e+00   0.00000000e+00\n",
      "   0.00000000e+00   0.00000000e+00   0.00000000e+00   0.00000000e+00\n",
      "   0.00000000e+00   0.00000000e+00   0.00000000e+00   0.00000000e+00\n",
      "   0.00000000e+00   0.00000000e+00   1.03556469e+01   4.03794349e+01\n",
      "   5.89157553e+01   7.59959038e+01   9.20777558e+01   1.06923714e+02\n",
      "   1.21043625e+02   1.35152598e+02   1.50943626e+02   1.63924226e+02\n",
      "   1.78189416e+02   1.93896245e+02   2.06987802e+02   2.22570962e+02\n",
      "   2.35355751e+02   2.50359074e+02   2.63144734e+02   2.76568571e+02\n",
      "   2.87839951e+02   3.00011936e+02   3.08231487e+02   3.14893206e+02\n",
      "   3.23317670e+02   3.26828055e+02   3.32802500e+02   3.34592109e+02\n",
      "   3.35911845e+02   3.35946248e+02   3.32602248e+02   3.30258849e+02\n",
      "   3.26246163e+02   3.19572335e+02   3.15087748e+02   3.05656181e+02\n",
      "   2.96108915e+02   2.86129698e+02   2.76455156e+02   2.66844240e+02\n",
      "   2.58041265e+02   2.47008874e+02   2.35839180e+02   2.26837407e+02\n",
      "   2.19598699e+02   2.09410830e+02   2.00323030e+02   1.91828353e+02\n",
      "   1.81974606e+02   1.71940336e+02   1.59822514e+02   1.45651322e+02\n",
      "   1.27181413e+02   1.04881104e+02   7.69678123e+01   4.74313519e+01\n",
      "   1.44137306e+01   0.00000000e+00   0.00000000e+00   0.00000000e+00\n",
      "   0.00000000e+00   0.00000000e+00   0.00000000e+00   0.00000000e+00\n",
      "   0.00000000e+00   0.00000000e+00   0.00000000e+00   0.00000000e+00\n",
      "   0.00000000e+00   0.00000000e+00   0.00000000e+00   0.00000000e+00\n",
      "   0.00000000e+00   0.00000000e+00   0.00000000e+00   0.00000000e+00\n",
      "   0.00000000e+00   1.00000000e+00   1.00000000e+00   1.00000000e+00\n",
      "   1.00000000e+00   1.00000000e+00   1.00000000e+00   1.00000000e+00\n",
      "   1.00000000e+00   1.00000000e+00   1.00000000e+00   1.00000000e+00\n",
      "   1.00000000e+00   9.91108008e-01   1.71874718e+01   0.00000000e+00\n",
      "   0.00000000e+00   0.00000000e+00   0.00000000e+00   0.00000000e+00\n",
      "   0.00000000e+00   0.00000000e+00   0.00000000e+00   0.00000000e+00\n",
      "   0.00000000e+00   0.00000000e+00   0.00000000e+00   0.00000000e+00\n",
      "   0.00000000e+00   0.00000000e+00   0.00000000e+00   0.00000000e+00\n",
      "   0.00000000e+00   0.00000000e+00   0.00000000e+00   0.00000000e+00\n",
      "   0.00000000e+00   0.00000000e+00   2.18200512e+00   5.75916434e+00\n",
      "   7.39198991e+00   8.73773557e+00   9.62221587e+00   1.02357091e+01\n",
      "   1.06185411e+01   1.04984615e+01   9.94346475e+00   9.43299982e+00\n",
      "   8.52150054e+00   7.06444399e+00   5.73457482e+00   3.72914398e+00\n",
      "   1.70394459e+00   0.00000000e+00   0.00000000e+00   0.00000000e+00\n",
      "   0.00000000e+00   0.00000000e+00   0.00000000e+00   0.00000000e+00\n",
      "   0.00000000e+00   0.00000000e+00   0.00000000e+00   0.00000000e+00\n",
      "   0.00000000e+00   0.00000000e+00   0.00000000e+00   0.00000000e+00\n",
      "   0.00000000e+00   0.00000000e+00   0.00000000e+00   0.00000000e+00\n",
      "   0.00000000e+00   0.00000000e+00   0.00000000e+00   0.00000000e+00\n",
      "   1.00000000e+00   1.00000000e+00   1.00000000e+00   1.00000000e+00\n",
      "   1.00000000e+00   1.00000000e+00   1.00000000e+00   1.00000000e+00\n",
      "   1.00000000e+00   1.00000000e+00   1.00000000e+00   1.00000000e+00\n",
      "   1.00000000e+00   1.00000000e+00   1.00000000e+00   1.00000000e+00\n",
      "   1.00000000e+00   1.00000000e+00   1.00000000e+00   1.00000000e+00\n",
      "   1.00000000e+00   1.00000000e+00   1.00000000e+00   1.00000000e+00\n",
      "   1.00000000e+00   1.00000000e+00   1.00000000e+00   1.00000000e+00\n",
      "   1.00000000e+00   1.00000000e+00   1.00000000e+00   1.00000000e+00]\n",
      "[  1.00000000e+000   1.00000000e+000   1.00000000e+000   1.00000000e+000\n",
      "   1.00000000e+000   1.00000000e+000   1.00000000e+000   1.00000000e+000\n",
      "   1.00000000e+000   1.00000000e+000   1.00000000e+000   1.00000000e+000\n",
      "   1.00000000e+000   2.63389854e-001   0.00000000e+000               inf\n",
      "               inf               inf               inf   0.00000000e+000\n",
      "   0.00000000e+000   0.00000000e+000   0.00000000e+000   1.79769313e+305\n",
      "   1.79769313e+305   1.79769313e+305               inf               inf\n",
      "   1.79769313e+305               inf   1.79769313e+305   3.11009350e+001\n",
      "   5.23758363e+001   7.08206298e+001   8.77597589e+001   1.03176354e+002\n",
      "   1.17734486e+002   1.32179528e+002   1.48255136e+002   1.61455098e+002\n",
      "   1.75911775e+002   1.91791337e+002   2.05026039e+002   2.20735091e+002\n",
      "   2.33624536e+002   2.48725665e+002   2.61590041e+002   2.75081720e+002\n",
      "   2.86407132e+002   2.98625268e+002   3.06881930e+002   3.13575342e+002\n",
      "   3.22025138e+002   3.25552775e+002   3.31542330e+002   3.33337362e+002\n",
      "   3.34660785e+002   3.34693490e+002   3.31343631e+002   3.28987089e+002\n",
      "   3.24958029e+002   3.18259922e+002   3.13745315e+002   3.04277309e+002\n",
      "   2.94688408e+002   2.84659619e+002   2.74934181e+002   2.65269409e+002\n",
      "   2.56405416e+002   2.45308073e+002   2.34066357e+002   2.24988860e+002\n",
      "   2.17670259e+002   2.07401898e+002   1.98227799e+002   1.89649865e+002\n",
      "   1.79697764e+002   1.69568247e+002   1.57340195e+002   1.43047519e+002\n",
      "   1.24434550e+002   1.01951110e+002   7.37160219e+001   4.35151590e+001\n",
      "   6.39176860e+000   0.00000000e+000   0.00000000e+000   0.00000000e+000\n",
      "   0.00000000e+000   0.00000000e+000   0.00000000e+000   0.00000000e+000\n",
      "   0.00000000e+000   0.00000000e+000   0.00000000e+000   0.00000000e+000\n",
      "   0.00000000e+000   0.00000000e+000   0.00000000e+000   0.00000000e+000\n",
      "   0.00000000e+000   0.00000000e+000   0.00000000e+000   0.00000000e+000\n",
      "   0.00000000e+000   1.00000000e+000   1.00000000e+000   1.00000000e+000\n",
      "   1.00000000e+000   1.00000000e+000   1.00000000e+000   1.00000000e+000\n",
      "   1.00000000e+000   1.00000000e+000   1.00000000e+000   1.00000000e+000\n",
      "   1.00000000e+000   9.90827925e-001   1.72883333e+001               inf\n",
      "               inf               inf               inf               inf\n",
      "   1.79769313e+305   0.00000000e+000   0.00000000e+000   0.00000000e+000\n",
      "   0.00000000e+000   0.00000000e+000   0.00000000e+000   0.00000000e+000\n",
      "   0.00000000e+000   0.00000000e+000   0.00000000e+000   1.79769313e+305\n",
      "   0.00000000e+000   0.00000000e+000   0.00000000e+000   0.00000000e+000\n",
      "   0.00000000e+000   0.00000000e+000   0.00000000e+000   3.06491824e+000\n",
      "   5.01675623e+000   6.52753309e+000   7.54055383e+000   8.20592655e+000\n",
      "   8.60581352e+000   8.46401339e+000   7.84160063e+000   7.23352027e+000\n",
      "   6.17786538e+000   4.45438154e+000   2.71769956e+000   0.00000000e+000\n",
      "   0.00000000e+000   0.00000000e+000   0.00000000e+000   0.00000000e+000\n",
      "   0.00000000e+000   0.00000000e+000   0.00000000e+000   0.00000000e+000\n",
      "   0.00000000e+000   0.00000000e+000   0.00000000e+000   0.00000000e+000\n",
      "   0.00000000e+000   0.00000000e+000   0.00000000e+000   0.00000000e+000\n",
      "   0.00000000e+000   0.00000000e+000   0.00000000e+000   0.00000000e+000\n",
      "   0.00000000e+000   0.00000000e+000   0.00000000e+000   0.00000000e+000\n",
      "   1.00000000e+000   1.00000000e+000   1.00000000e+000   1.00000000e+000\n",
      "   1.00000000e+000   1.00000000e+000   1.00000000e+000   1.00000000e+000\n",
      "   1.00000000e+000   1.00000000e+000   1.00000000e+000   1.00000000e+000\n",
      "   1.00000000e+000   1.00000000e+000   1.00000000e+000   1.00000000e+000\n",
      "   1.00000000e+000   1.00000000e+000   1.00000000e+000   1.00000000e+000\n",
      "   1.00000000e+000   1.00000000e+000   1.00000000e+000   1.00000000e+000\n",
      "   1.00000000e+000   1.00000000e+000   1.00000000e+000   1.00000000e+000\n",
      "   1.00000000e+000   1.00000000e+000   1.00000000e+000   1.00000000e+000]\n",
      "[  1.00000000e+000   1.00000000e+000   1.00000000e+000   1.00000000e+000\n",
      "   1.00000000e+000   1.00000000e+000   1.00000000e+000   1.00000000e+000\n",
      "   1.00000000e+000   1.00000000e+000   1.00000000e+000   1.00000000e+000\n",
      "   1.00000000e+000   2.63389854e-001   0.00000000e+000               inf\n",
      "               inf               inf               inf   0.00000000e+000\n",
      "   0.00000000e+000   0.00000000e+000   0.00000000e+000   1.79769313e+305\n",
      "   1.79769313e+305   1.79769313e+305               inf               inf\n",
      "   1.79769313e+305               inf   1.79769313e+305   3.11009350e+001\n",
      "   5.23758363e+001   7.08206298e+001   8.77597589e+001   1.03176354e+002\n",
      "   1.17734486e+002   1.32179528e+002   1.48255136e+002   1.61455098e+002\n",
      "   1.75911775e+002   1.91791337e+002   2.05026039e+002   2.20735091e+002\n",
      "   2.33624536e+002   2.48725665e+002   2.61590041e+002   2.75081720e+002\n",
      "   2.86407132e+002   2.98625268e+002   3.06881930e+002   3.13575342e+002\n",
      "   3.22025138e+002   3.25552775e+002   3.31542330e+002   3.33337362e+002\n",
      "   3.34660785e+002   3.34693490e+002   3.31343631e+002   3.28987089e+002\n",
      "   3.24958029e+002   3.18259922e+002   3.13745315e+002   3.04277309e+002\n",
      "   2.94688408e+002   2.84659619e+002   2.74934181e+002   2.65269409e+002\n",
      "   2.56405416e+002   2.45308073e+002   2.34066357e+002   2.24988860e+002\n",
      "   2.17670259e+002   2.07401898e+002   1.98227799e+002   1.89649865e+002\n",
      "   1.79697764e+002   1.69568247e+002   1.57340195e+002   1.43047519e+002\n",
      "   1.24434550e+002   1.01951110e+002   7.37160219e+001   4.35151590e+001\n",
      "   6.39176860e+000   0.00000000e+000   0.00000000e+000   0.00000000e+000\n",
      "   0.00000000e+000   0.00000000e+000   0.00000000e+000   0.00000000e+000\n",
      "   0.00000000e+000   0.00000000e+000   0.00000000e+000   0.00000000e+000\n",
      "   0.00000000e+000   0.00000000e+000   0.00000000e+000   0.00000000e+000\n",
      "   0.00000000e+000   0.00000000e+000   0.00000000e+000   0.00000000e+000\n",
      "   0.00000000e+000   1.00000000e+000   1.00000000e+000   1.00000000e+000\n",
      "   1.00000000e+000   1.00000000e+000   1.00000000e+000   1.00000000e+000\n",
      "   1.00000000e+000   1.00000000e+000   1.00000000e+000   1.00000000e+000\n",
      "   1.00000000e+000   9.90827925e-001   1.72883333e+001               inf\n",
      "               inf               inf               inf               inf\n",
      "   1.79769313e+305   0.00000000e+000   0.00000000e+000   0.00000000e+000\n",
      "   0.00000000e+000   0.00000000e+000   0.00000000e+000   0.00000000e+000\n",
      "   0.00000000e+000   0.00000000e+000   0.00000000e+000   1.79769313e+305\n",
      "   0.00000000e+000   0.00000000e+000   0.00000000e+000   0.00000000e+000\n",
      "   0.00000000e+000   0.00000000e+000   0.00000000e+000   3.06491824e+000\n",
      "   5.01675623e+000   6.52753309e+000   7.54055383e+000   8.20592655e+000\n",
      "   8.60581352e+000   8.46401339e+000   7.84160063e+000   7.23352027e+000\n",
      "   6.17786538e+000   4.45438154e+000   2.71769956e+000   0.00000000e+000\n",
      "   0.00000000e+000   0.00000000e+000   0.00000000e+000   0.00000000e+000\n",
      "   0.00000000e+000   0.00000000e+000   0.00000000e+000   0.00000000e+000\n",
      "   0.00000000e+000   0.00000000e+000   0.00000000e+000   0.00000000e+000\n",
      "   0.00000000e+000   0.00000000e+000   0.00000000e+000   0.00000000e+000\n",
      "   0.00000000e+000   0.00000000e+000   0.00000000e+000   0.00000000e+000\n",
      "   0.00000000e+000   0.00000000e+000   0.00000000e+000   0.00000000e+000\n",
      "   1.00000000e+000   1.00000000e+000   1.00000000e+000   1.00000000e+000\n",
      "   1.00000000e+000   1.00000000e+000   1.00000000e+000   1.00000000e+000\n",
      "   1.00000000e+000   1.00000000e+000   1.00000000e+000   1.00000000e+000\n",
      "   1.00000000e+000   1.00000000e+000   1.00000000e+000   1.00000000e+000\n",
      "   1.00000000e+000   1.00000000e+000   1.00000000e+000   1.00000000e+000\n",
      "   1.00000000e+000   1.00000000e+000   1.00000000e+000   1.00000000e+000\n",
      "   1.00000000e+000   1.00000000e+000   1.00000000e+000   1.00000000e+000\n",
      "   1.00000000e+000   1.00000000e+000   1.00000000e+000   1.00000000e+000]\n",
      "[  1.00000000e+000   1.00000000e+000   1.00000000e+000   1.00000000e+000\n",
      "   1.00000000e+000   1.00000000e+000   1.00000000e+000   1.00000000e+000\n",
      "   1.00000000e+000   1.00000000e+000   1.00000000e+000   1.00000000e+000\n",
      "   1.00000000e+000   2.63389854e-001   0.00000000e+000               inf\n",
      "               inf               inf               inf   0.00000000e+000\n",
      "   0.00000000e+000   0.00000000e+000   0.00000000e+000   1.79769313e+305\n",
      "   1.79769313e+305   1.79769313e+305               inf               inf\n",
      "   1.79769313e+305               inf   1.79769313e+305   3.11009350e+001\n",
      "   5.23758363e+001   7.08206298e+001   8.77597589e+001   1.03176354e+002\n",
      "   1.17734486e+002   1.32179528e+002   1.48255136e+002   1.61455098e+002\n",
      "   1.75911775e+002   1.91791337e+002   2.05026039e+002   2.20735091e+002\n",
      "   2.33624536e+002   2.48725665e+002   2.61590041e+002   2.75081720e+002\n",
      "   2.86407132e+002   2.98625268e+002   3.06881930e+002   3.13575342e+002\n",
      "   3.22025138e+002   3.25552775e+002   3.31542330e+002   3.33337362e+002\n",
      "   3.34660785e+002   3.34693490e+002   3.31343631e+002   3.28987089e+002\n",
      "   3.24958029e+002   3.18259922e+002   3.13745315e+002   3.04277309e+002\n",
      "   2.94688408e+002   2.84659619e+002   2.74934181e+002   2.65269409e+002\n",
      "   2.56405416e+002   2.45308073e+002   2.34066357e+002   2.24988860e+002\n",
      "   2.17670259e+002   2.07401898e+002   1.98227799e+002   1.89649865e+002\n",
      "   1.79697764e+002   1.69568247e+002   1.57340195e+002   1.43047519e+002\n",
      "   1.24434550e+002   1.01951110e+002   7.37160219e+001   4.35151590e+001\n",
      "   6.39176860e+000   0.00000000e+000   0.00000000e+000   0.00000000e+000\n",
      "   0.00000000e+000   0.00000000e+000   0.00000000e+000   0.00000000e+000\n",
      "   0.00000000e+000   0.00000000e+000   0.00000000e+000   0.00000000e+000\n",
      "   0.00000000e+000   0.00000000e+000   0.00000000e+000   0.00000000e+000\n",
      "   0.00000000e+000   0.00000000e+000   0.00000000e+000   0.00000000e+000\n",
      "   0.00000000e+000   1.00000000e+000   1.00000000e+000   1.00000000e+000\n",
      "   1.00000000e+000   1.00000000e+000   1.00000000e+000   1.00000000e+000\n",
      "   1.00000000e+000   1.00000000e+000   1.00000000e+000   1.00000000e+000\n",
      "   1.00000000e+000   9.90827925e-001   1.72883333e+001               inf\n",
      "               inf               inf               inf               inf\n",
      "   1.79769313e+305   0.00000000e+000   0.00000000e+000   0.00000000e+000\n",
      "   0.00000000e+000   0.00000000e+000   0.00000000e+000   0.00000000e+000\n",
      "   0.00000000e+000   0.00000000e+000   0.00000000e+000   1.79769313e+305\n",
      "   0.00000000e+000   0.00000000e+000   0.00000000e+000   0.00000000e+000\n",
      "   0.00000000e+000   0.00000000e+000   0.00000000e+000   3.06491824e+000\n",
      "   5.01675623e+000   6.52753309e+000   7.54055383e+000   8.20592655e+000\n",
      "   8.60581352e+000   8.46401339e+000   7.84160063e+000   7.23352027e+000\n",
      "   6.17786538e+000   4.45438154e+000   2.71769956e+000   0.00000000e+000\n",
      "   0.00000000e+000   0.00000000e+000   0.00000000e+000   0.00000000e+000\n",
      "   0.00000000e+000   0.00000000e+000   0.00000000e+000   0.00000000e+000\n",
      "   0.00000000e+000   0.00000000e+000   0.00000000e+000   0.00000000e+000\n",
      "   0.00000000e+000   0.00000000e+000   0.00000000e+000   0.00000000e+000\n",
      "   0.00000000e+000   0.00000000e+000   0.00000000e+000   0.00000000e+000\n",
      "   0.00000000e+000   0.00000000e+000   0.00000000e+000   0.00000000e+000\n",
      "   1.00000000e+000   1.00000000e+000   1.00000000e+000   1.00000000e+000\n",
      "   1.00000000e+000   1.00000000e+000   1.00000000e+000   1.00000000e+000\n",
      "   1.00000000e+000   1.00000000e+000   1.00000000e+000   1.00000000e+000\n",
      "   1.00000000e+000   1.00000000e+000   1.00000000e+000   1.00000000e+000\n",
      "   1.00000000e+000   1.00000000e+000   1.00000000e+000   1.00000000e+000\n",
      "   1.00000000e+000   1.00000000e+000   1.00000000e+000   1.00000000e+000\n",
      "   1.00000000e+000   1.00000000e+000   1.00000000e+000   1.00000000e+000\n",
      "   1.00000000e+000   1.00000000e+000   1.00000000e+000   1.00000000e+000]\n",
      "[  1.00000000e+000   1.00000000e+000   1.00000000e+000   1.00000000e+000\n",
      "   1.00000000e+000   1.00000000e+000   1.00000000e+000   1.00000000e+000\n",
      "   1.00000000e+000   1.00000000e+000   1.00000000e+000   1.00000000e+000\n",
      "   1.00000000e+000   2.63389854e-001   0.00000000e+000               inf\n",
      "               inf               inf               inf   0.00000000e+000\n",
      "   0.00000000e+000   0.00000000e+000   0.00000000e+000   1.79769313e+305\n",
      "   1.79769313e+305   1.79769313e+305               inf               inf\n",
      "   1.79769313e+305               inf   1.79769313e+305   3.11009350e+001\n",
      "   5.23758363e+001   7.08206298e+001   8.77597589e+001   1.03176354e+002\n",
      "   1.17734486e+002   1.32179528e+002   1.48255136e+002   1.61455098e+002\n",
      "   1.75911775e+002   1.91791337e+002   2.05026039e+002   2.20735091e+002\n",
      "   2.33624536e+002   2.48725665e+002   2.61590041e+002   2.75081720e+002\n",
      "   2.86407132e+002   2.98625268e+002   3.06881930e+002   3.13575342e+002\n",
      "   3.22025138e+002   3.25552775e+002   3.31542330e+002   3.33337362e+002\n",
      "   3.34660785e+002   3.34693490e+002   3.31343631e+002   3.28987089e+002\n",
      "   3.24958029e+002   3.18259922e+002   3.13745315e+002   3.04277309e+002\n",
      "   2.94688408e+002   2.84659619e+002   2.74934181e+002   2.65269409e+002\n",
      "   2.56405416e+002   2.45308073e+002   2.34066357e+002   2.24988860e+002\n",
      "   2.17670259e+002   2.07401898e+002   1.98227799e+002   1.89649865e+002\n",
      "   1.79697764e+002   1.69568247e+002   1.57340195e+002   1.43047519e+002\n",
      "   1.24434550e+002   1.01951110e+002   7.37160219e+001   4.35151590e+001\n",
      "   6.39176860e+000   0.00000000e+000   0.00000000e+000   0.00000000e+000\n",
      "   0.00000000e+000   0.00000000e+000   0.00000000e+000   0.00000000e+000\n",
      "   0.00000000e+000   0.00000000e+000   0.00000000e+000   0.00000000e+000\n",
      "   0.00000000e+000   0.00000000e+000   0.00000000e+000   0.00000000e+000\n",
      "   0.00000000e+000   0.00000000e+000   0.00000000e+000   0.00000000e+000\n",
      "   0.00000000e+000   1.00000000e+000   1.00000000e+000   1.00000000e+000\n",
      "   1.00000000e+000   1.00000000e+000   1.00000000e+000   1.00000000e+000\n",
      "   1.00000000e+000   1.00000000e+000   1.00000000e+000   1.00000000e+000\n",
      "   1.00000000e+000   9.90827925e-001   1.72883333e+001               inf\n",
      "               inf               inf               inf               inf\n",
      "   1.79769313e+305   0.00000000e+000   0.00000000e+000   0.00000000e+000\n",
      "   0.00000000e+000   0.00000000e+000   0.00000000e+000   0.00000000e+000\n",
      "   0.00000000e+000   0.00000000e+000   0.00000000e+000   1.79769313e+305\n",
      "   0.00000000e+000   0.00000000e+000   0.00000000e+000   0.00000000e+000\n",
      "   0.00000000e+000   0.00000000e+000   0.00000000e+000   3.06491824e+000\n",
      "   5.01675623e+000   6.52753309e+000   7.54055383e+000   8.20592655e+000\n",
      "   8.60581352e+000   8.46401339e+000   7.84160063e+000   7.23352027e+000\n",
      "   6.17786538e+000   4.45438154e+000   2.71769956e+000   0.00000000e+000\n",
      "   0.00000000e+000   0.00000000e+000   0.00000000e+000   0.00000000e+000\n",
      "   0.00000000e+000   0.00000000e+000   0.00000000e+000   0.00000000e+000\n",
      "   0.00000000e+000   0.00000000e+000   0.00000000e+000   0.00000000e+000\n",
      "   0.00000000e+000   0.00000000e+000   0.00000000e+000   0.00000000e+000\n",
      "   0.00000000e+000   0.00000000e+000   0.00000000e+000   0.00000000e+000\n",
      "   0.00000000e+000   0.00000000e+000   0.00000000e+000   0.00000000e+000\n",
      "   1.00000000e+000   1.00000000e+000   1.00000000e+000   1.00000000e+000\n",
      "   1.00000000e+000   1.00000000e+000   1.00000000e+000   1.00000000e+000\n",
      "   1.00000000e+000   1.00000000e+000   1.00000000e+000   1.00000000e+000\n",
      "   1.00000000e+000   1.00000000e+000   1.00000000e+000   1.00000000e+000\n",
      "   1.00000000e+000   1.00000000e+000   1.00000000e+000   1.00000000e+000\n",
      "   1.00000000e+000   1.00000000e+000   1.00000000e+000   1.00000000e+000\n",
      "   1.00000000e+000   1.00000000e+000   1.00000000e+000   1.00000000e+000\n",
      "   1.00000000e+000   1.00000000e+000   1.00000000e+000   1.00000000e+000]\n",
      "[  1.00000000e+000   1.00000000e+000   1.00000000e+000   1.00000000e+000\n",
      "   1.00000000e+000   1.00000000e+000   1.00000000e+000   1.00000000e+000\n",
      "   1.00000000e+000   1.00000000e+000   1.00000000e+000   1.00000000e+000\n",
      "   1.00000000e+000   2.63389854e-001   0.00000000e+000               inf\n",
      "               inf               inf               inf   0.00000000e+000\n",
      "   0.00000000e+000   0.00000000e+000   0.00000000e+000   1.79769313e+305\n",
      "   1.79769313e+305   1.79769313e+305               inf               inf\n",
      "   1.79769313e+305               inf   1.79769313e+305   3.11009350e+001\n",
      "   5.23758363e+001   7.08206298e+001   8.77597589e+001   1.03176354e+002\n",
      "   1.17734486e+002   1.32179528e+002   1.48255136e+002   1.61455098e+002\n",
      "   1.75911775e+002   1.91791337e+002   2.05026039e+002   2.20735091e+002\n",
      "   2.33624536e+002   2.48725665e+002   2.61590041e+002   2.75081720e+002\n",
      "   2.86407132e+002   2.98625268e+002   3.06881930e+002   3.13575342e+002\n",
      "   3.22025138e+002   3.25552775e+002   3.31542330e+002   3.33337362e+002\n",
      "   3.34660785e+002   3.34693490e+002   3.31343631e+002   3.28987089e+002\n",
      "   3.24958029e+002   3.18259922e+002   3.13745315e+002   3.04277309e+002\n",
      "   2.94688408e+002   2.84659619e+002   2.74934181e+002   2.65269409e+002\n",
      "   2.56405416e+002   2.45308073e+002   2.34066357e+002   2.24988860e+002\n",
      "   2.17670259e+002   2.07401898e+002   1.98227799e+002   1.89649865e+002\n",
      "   1.79697764e+002   1.69568247e+002   1.57340195e+002   1.43047519e+002\n",
      "   1.24434550e+002   1.01951110e+002   7.37160219e+001   4.35151590e+001\n",
      "   6.39176860e+000   0.00000000e+000   0.00000000e+000   0.00000000e+000\n",
      "   0.00000000e+000   0.00000000e+000   0.00000000e+000   0.00000000e+000\n",
      "   0.00000000e+000   0.00000000e+000   0.00000000e+000   0.00000000e+000\n",
      "   0.00000000e+000   0.00000000e+000   0.00000000e+000   0.00000000e+000\n",
      "   0.00000000e+000   0.00000000e+000   0.00000000e+000   0.00000000e+000\n",
      "   0.00000000e+000   1.00000000e+000   1.00000000e+000   1.00000000e+000\n",
      "   1.00000000e+000   1.00000000e+000   1.00000000e+000   1.00000000e+000\n",
      "   1.00000000e+000   1.00000000e+000   1.00000000e+000   1.00000000e+000\n",
      "   1.00000000e+000   9.90827925e-001   1.72883333e+001               inf\n",
      "               inf               inf               inf               inf\n",
      "   1.79769313e+305   0.00000000e+000   0.00000000e+000   0.00000000e+000\n",
      "   0.00000000e+000   0.00000000e+000   0.00000000e+000   0.00000000e+000\n",
      "   0.00000000e+000   0.00000000e+000   0.00000000e+000   1.79769313e+305\n",
      "   0.00000000e+000   0.00000000e+000   0.00000000e+000   0.00000000e+000\n",
      "   0.00000000e+000   0.00000000e+000   0.00000000e+000   3.06491824e+000\n",
      "   5.01675623e+000   6.52753309e+000   7.54055383e+000   8.20592655e+000\n",
      "   8.60581352e+000   8.46401339e+000   7.84160063e+000   7.23352027e+000\n",
      "   6.17786538e+000   4.45438154e+000   2.71769956e+000   0.00000000e+000\n",
      "   0.00000000e+000   0.00000000e+000   0.00000000e+000   0.00000000e+000\n",
      "   0.00000000e+000   0.00000000e+000   0.00000000e+000   0.00000000e+000\n",
      "   0.00000000e+000   0.00000000e+000   0.00000000e+000   0.00000000e+000\n",
      "   0.00000000e+000   0.00000000e+000   0.00000000e+000   0.00000000e+000\n",
      "   0.00000000e+000   0.00000000e+000   0.00000000e+000   0.00000000e+000\n",
      "   0.00000000e+000   0.00000000e+000   0.00000000e+000   0.00000000e+000\n",
      "   1.00000000e+000   1.00000000e+000   1.00000000e+000   1.00000000e+000\n",
      "   1.00000000e+000   1.00000000e+000   1.00000000e+000   1.00000000e+000\n",
      "   1.00000000e+000   1.00000000e+000   1.00000000e+000   1.00000000e+000\n",
      "   1.00000000e+000   1.00000000e+000   1.00000000e+000   1.00000000e+000\n",
      "   1.00000000e+000   1.00000000e+000   1.00000000e+000   1.00000000e+000\n",
      "   1.00000000e+000   1.00000000e+000   1.00000000e+000   1.00000000e+000\n",
      "   1.00000000e+000   1.00000000e+000   1.00000000e+000   1.00000000e+000\n",
      "   1.00000000e+000   1.00000000e+000   1.00000000e+000   1.00000000e+000]\n"
     ]
    }
   ],
   "source": [
    "for i in range(100):\n",
    "    if i % 10 == 0: print fl\n",
    "    ex = get_exps(fl,t)\n",
    "    np.seterr(divide='ignore', invalid='ignore')\n",
    "    fl += 0.001 * (nan_to_num((data/(ex*fl[:,np.newaxis]).sum(axis=0) - 1))*ex).sum(axis=1)\n",
    "    fl[fl<0] = 0"
   ]
  },
  {
   "cell_type": "code",
   "execution_count": 61,
   "metadata": {
    "collapsed": false
   },
   "outputs": [
    {
     "data": {
      "text/plain": [
       "(0.5, 6)"
      ]
     },
     "execution_count": 61,
     "metadata": {},
     "output_type": "execute_result"
    },
    {
     "data": {
      "image/png": "[encoded data removed]",
      "text/plain": [
       "<matplotlib.figure.Figure at 0x293d1150>"
      ]
     },
     "metadata": {},
     "output_type": "display_data"
    }
   ],
   "source": [
    "nn = 50\n",
    "subplot(121)\n",
    "plot_matrix( \n",
    "    pd.Series(ex[nn],index=mask[~mask].index).unstack().fillna(0),\n",
    "    norm=LogNorm(vmin=10**(-5),vmax=sum(ex[nn])))\n",
    "xlim(0.5,6)\n",
    "subplot(122)\n",
    "plot_matrix( \n",
    "    pd.Series(templates[nn],index=mask[~mask].index).unstack().fillna(0),\n",
    "    norm=LogNorm(vmin=10**(-5),vmax=sum(templates[nn])))\n",
    "xlim(0.5,6)"
   ]
  },
  {
   "cell_type": "code",
   "execution_count": 96,
   "metadata": {
    "collapsed": false
   },
   "outputs": [
    {
     "data": {
      "image/png": "[encoded data removed]",
      "text/plain": [
       "<matplotlib.figure.Figure at 0x38f0a210>"
      ]
     },
     "metadata": {},
     "output_type": "display_data"
    }
   ],
   "source": [
    "flt = fl / ex.sum(axis=1)\n",
    "p_result = pd.Series(flt[:106],\n",
    "    index=Ek_from_beta(resP.index.levels[-1]))\n",
    "\n",
    "d_over_p = pd.Series(flt[106:]/flt[:106],\n",
    "    index=Ek_from_beta(resP.index.levels[-1]))\n",
    "d_over_p.index.name = 'Ek/n'\n",
    "d_over_p.plot(marker='o', lw=0)\n",
    "xlim(0.5,4);\n",
    "ylim(0.0,0.1);"
   ]
  },
  {
   "cell_type": "code",
   "execution_count": 87,
   "metadata": {
    "collapsed": false
   },
   "outputs": [],
   "source": [
    "# This does the parsing\n",
    "def request_and_parse(url):\n",
    "    import warnings; warnings.filterwarnings('ignore')\n",
    "    import requests\n",
    "    data = requests.get(url)\n",
    "    cols, frame = [], []\n",
    "    for l in data.text.splitlines():\n",
    "        if l[0] == '#': \n",
    "            if not 'Col' in l: continue\n",
    "            cols.append(' '.join(l.split()[3:]))\n",
    "            continue\n",
    "        frame.append(l.split())\n",
    "    frame = pd.DataFrame(frame, columns=cols)\n",
    "    frame.iloc[:,3:11] = frame.iloc[:,3:11].astype(float)\n",
    "    return frame\n",
    "\n",
    "def doplt(frame):\n",
    "    nerr = frame.iloc[:,[7, 9]].sum(axis=1)\n",
    "    perr = frame.iloc[:,[8,10]].sum(axis=1)\n",
    "    errorbar(frame.iloc[:,3],frame.iloc[:,6], yerr=[-nerr, perr], fmt='D', label=frame.name)\n",
    "    return frame"
   ]
  },
  {
   "cell_type": "code",
   "execution_count": 91,
   "metadata": {
    "collapsed": false
   },
   "outputs": [
    {
     "data": {
      "text/plain": [
       "<matplotlib.legend.Legend at 0x35a49bd0>"
      ]
     },
     "execution_count": 91,
     "metadata": {},
     "output_type": "execute_result"
    },
    {
     "data": {
      "image/png": "[encoded data removed]",
      "text/plain": [
       "<matplotlib.figure.Figure at 0x35a40890>"
      ]
     },
     "metadata": {},
     "output_type": "display_data"
    }
   ],
   "source": [
    "frame = request_and_parse(\"https://lpsc.in2p3.fr/cosmic-rays-db/_dialog_result.php?num=2H&den=1H&energy_type=EKN\")\n",
    "frame.groupby(frame.columns[1]).apply(doplt);\n",
    "\n",
    "xscale('log')\n",
    "xlabel(\"Ekn, [GeV/n]\")\n",
    "ylabel(\"$H_2/H_1$\")\n",
    "d_over_p.plot(marker='o', lw=0, color='k', label='AMS02-TOF')\n",
    "\n",
    "legend()"
   ]
  },
  {
   "cell_type": "code",
   "execution_count": 92,
   "metadata": {
    "collapsed": true
   },
   "outputs": [],
   "source": [
    "frame = request_and_parse(\"https://lpsc.in2p3.fr/cosmic-rays-db/_dialog_result.php?num=H&energy_type=EKN\")"
   ]
  },
  {
   "cell_type": "code",
   "execution_count": 105,
   "metadata": {
    "collapsed": false
   },
   "outputs": [
    {
     "data": {
      "text/plain": [
       "(0, 400)"
      ]
     },
     "execution_count": 105,
     "metadata": {},
     "output_type": "execute_result"
    },
    {
     "data": {
      "image/png": "[encoded data removed]",
      "text/plain": [
       "<matplotlib.figure.Figure at 0x3ae2e490>"
      ]
     },
     "metadata": {},
     "output_type": "display_data"
    }
   ],
   "source": [
    "frame.groupby(frame.columns[1]).apply(doplt);\n",
    "(100*p_result).plot(marker='o', lw=0, color='k', label='AMS02-TOF')\n",
    "xscale('log')\n",
    "xlim(1,20)\n",
    "ylim(0,400)"
   ]
  },
  {
   "cell_type": "code",
   "execution_count": 106,
   "metadata": {
    "collapsed": false
   },
   "outputs": [
    {
     "ename": "ImportError",
     "evalue": "No module named bigQueryPlotting",
     "output_type": "error",
     "traceback": [
      "\u001b[1;31m---------------------------------------------------------------------------\u001b[0m",
      "\u001b[1;31mImportError\u001b[0m                               Traceback (most recent call last)",
      "\u001b[1;32m/afs/cern.ch/user/k/kostams/AMSDeutons/1.exposureTime/exposureTime.py\u001b[0m in \u001b[0;36m<module>\u001b[1;34m()\u001b[0m\n\u001b[1;32m----> 1\u001b[1;33m \u001b[1;32mimport\u001b[0m \u001b[0mbigQueryPlotting\u001b[0m \u001b[1;32mas\u001b[0m \u001b[0mb\u001b[0m\u001b[1;33m\u001b[0m\u001b[0m\n\u001b[0m\u001b[0;32m      2\u001b[0m \u001b[1;32mimport\u001b[0m \u001b[0mmatplotlib\u001b[0m\u001b[1;33m.\u001b[0m\u001b[0mpyplot\u001b[0m \u001b[1;32mas\u001b[0m \u001b[0mplt\u001b[0m\u001b[1;33m\u001b[0m\u001b[0m\n\u001b[0;32m      3\u001b[0m \u001b[1;32mimport\u001b[0m \u001b[0msys\u001b[0m\u001b[1;33m\u001b[0m\u001b[0m\n\u001b[0;32m      4\u001b[0m \u001b[1;33m\u001b[0m\u001b[0m\n\u001b[0;32m      5\u001b[0m \u001b[1;31m# Exposure time is computed as a function of the rigidity cutoff value\u001b[0m\u001b[1;33m\u001b[0m\u001b[1;33m\u001b[0m\u001b[0m\n",
      "\u001b[1;31mImportError\u001b[0m: No module named bigQueryPlotting"
     ]
    }
   ],
   "source": [
    "%run ~/AMSDeutons/1.exposureTime/exposureTime.py"
   ]
  },
  {
   "cell_type": "code",
   "execution_count": null,
   "metadata": {
    "collapsed": true
   },
   "outputs": [],
   "source": []
  }
 ],
 "metadata": {
  "kernelspec": {
   "display_name": "Python 2",
   "language": "python",
   "name": "python2"
  },
  "language_info": {
   "codemirror_mode": {
    "name": "ipython",
    "version": 2
   },
   "file_extension": ".py",
   "mimetype": "text/x-python",
   "name": "python",
   "nbconvert_exporter": "python",
   "pygments_lexer": "ipython2",
   "version": "2.7.6"
  }
 },
 "nbformat": 4,
 "nbformat_minor": 0
}
