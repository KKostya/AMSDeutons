{
 "cells": [
  {
   "cell_type": "code",
   "execution_count": null,
   "metadata": {
    "collapsed": true
   },
   "outputs": [],
   "source": [
    "figsize(7,7)\n",
    "sel = lambda s: [ c for c in data.columns \n",
    "    if c.startswith(s) and  c[-1] in [\"0\",\"8\"]]\n",
    "\n",
    "etrack   = data[sel(\"EDepTrack\")].sum(axis=1)\n",
    "etracker = data[sel(\"EDepLayer\")].sum(axis=1)\n",
    "idx = (etrack > 0) & (etracker> 0)\n",
    "scatter(etrack[idx], etracker[idx]-etrack[idx],c='k',marker='.',lw=0)\n",
    "xlim(0,10); xlabel(\"EDepTrack\");\n",
    "ylim(0,40); ylabel(\"EDepLayer-EDepTrack\");\n"
   ]
  }
 ],
 "metadata": {
  "kernelspec": {
   "display_name": "Python 2",
   "language": "python",
   "name": "python2"
  },
  "language_info": {
   "codemirror_mode": {
    "name": "ipython",
    "version": 2
   },
   "file_extension": ".py",
   "mimetype": "text/x-python",
   "name": "python",
   "nbconvert_exporter": "python",
   "pygments_lexer": "ipython2",
   "version": "2.7.6"
  }
 },
 "nbformat": 4,
 "nbformat_minor": 0
}
