{
 "cells": [
  {
   "cell_type": "code",
   "execution_count": 1,
   "metadata": {
    "collapsed": false
   },
   "outputs": [
    {
     "name": "stdout",
     "output_type": "stream",
     "text": [
      "Populating the interactive namespace from numpy and matplotlib\n"
     ]
    }
   ],
   "source": [
    "import numpy as np\n",
    "from pandas import DataFrame\n",
    "import pandas as pd\n",
    "import glob\n",
    "\n",
    "%pylab inline\n",
    "\n",
    "import os\n"
   ]
  },
  {
   "cell_type": "code",
   "execution_count": 59,
   "metadata": {
    "collapsed": false,
    "scrolled": false
   },
   "outputs": [
    {
     "name": "stdout",
     "output_type": "stream",
     "text": [
      "loading : /afs/cern.ch/user/b/bcoste/myeos/dstTofTiming/protons.B1034_pr.pl1.1200.qgsp_bic_ams/1946159363.00000001.output\n",
      "loading : /afs/cern.ch/user/b/bcoste/myeos/dstTofTiming/protons.B1034_pr.pl1.1200.qgsp_bic_ams/1946159364.00000001.output\n",
      "loading : /afs/cern.ch/user/b/bcoste/myeos/dstTofTiming/protons.B1034_pr.pl1.1200.qgsp_bic_ams/872731547.00000001.output\n",
      "loading : /afs/cern.ch/user/b/bcoste/myeos/dstTofTiming/protons.B1034_pr.pl1.1200.qgsp_bic_ams/872731548.00000001.output\n",
      "loading : /afs/cern.ch/user/b/bcoste/myeos/dstTofTiming/protons.B1034_pr.pl1.1200.qgsp_bic_ams/872731549.00000001.output\n",
      "loading : /afs/cern.ch/user/b/bcoste/myeos/dstTofTiming/protons.B1034_pr.pl1.1200.qgsp_bic_ams/872731550.00000001.output\n",
      "loading : /afs/cern.ch/user/b/bcoste/myeos/dstTofTiming/protons.B1034_pr.pl1.1200.qgsp_bic_ams/872731551.00000001.output\n",
      "loading : /afs/cern.ch/user/b/bcoste/myeos/dstTofTiming/protons.B1034_pr.pl1.1200.qgsp_bic_ams/872731552.00000001.output\n",
      "loading : /afs/cern.ch/user/b/bcoste/myeos/dstTofTiming/protons.B1034_pr.pl1.1200.qgsp_bic_ams/872731553.00000001.output\n",
      "loading : /afs/cern.ch/user/b/bcoste/myeos/dstTofTiming/protons.B1034_pr.pl1.1200.qgsp_bic_ams/872731554.00000001.output\n",
      "loading : /afs/cern.ch/user/b/bcoste/myeos/dstTofTiming/ISS.B950_pass6/1305921904.00000001.output\n",
      "loading : /afs/cern.ch/user/b/bcoste/myeos/dstTofTiming/ISS.B950_pass6/1305922845.00000001.output\n",
      "loading : /afs/cern.ch/user/b/bcoste/myeos/dstTofTiming/ISS.B950_pass6/1305924022.00000001.output\n",
      "loading : /afs/cern.ch/user/b/bcoste/myeos/dstTofTiming/ISS.B950_pass6/1305925072.00000001.output\n",
      "loading : /afs/cern.ch/user/b/bcoste/myeos/dstTofTiming/ISS.B950_pass6/1305928763.00000001.output\n",
      "loading : /afs/cern.ch/user/b/bcoste/myeos/dstTofTiming/ISS.B950_pass6/1305929750.00000001.output\n",
      "loading : /afs/cern.ch/user/b/bcoste/myeos/dstTofTiming/ISS.B950_pass6/1305930587.00000001.output\n",
      "loading : /afs/cern.ch/user/b/bcoste/myeos/dstTofTiming/ISS.B950_pass6/1305934329.00000001.output\n",
      "loading : /afs/cern.ch/user/b/bcoste/myeos/dstTofTiming/ISS.B950_pass6/1305934852.00000001.output\n",
      "loading : /afs/cern.ch/user/b/bcoste/myeos/dstTofTiming/ISS.B950_pass6/1305935488.00000001.output\n"
     ]
    }
   ],
   "source": [
    "def loadBinary(dirname):\n",
    "    print 'loading : ' + dirname\n",
    "    data=dict()\n",
    "    for file in os.listdir(dirname):\n",
    "        if file.startswith(\"time_\") or file.startswith('R_'):\n",
    "            data[file.split('_chunk')[0]] = np.fromfile(dirname+'/'+file, np.dtype('float32'))\n",
    "\n",
    "    return DataFrame(data)\n",
    "\n",
    "filesMC   = glob.glob('/afs/cern.ch/user/b/bcoste/myeos/dstTofTiming/protons.B1034_pr.pl1.1200.qgsp_bic_ams/*.00000001.output')\n",
    "filesData = glob.glob('/afs/cern.ch/user/b/bcoste/myeos/dstTofTiming/ISS.B950_pass6/*.00000001.output')\n",
    "\n",
    "mc   = pd.concat(map(loadBinary, filesMC[:10]))\n",
    "data = pd.concat(map(loadBinary, filesData[:10]))\n",
    "\n",
    "mc  = mc[(mc.R > 1) & (mc.R < 15)]\n",
    "data= data[(data.R > 1) & (data.R < 15)]\n",
    "mc['rgdtBin']=mc.R.astype(int)\n",
    "data['rgdtBin']=data.R.astype(int)"
   ]
  },
  {
   "cell_type": "code",
   "execution_count": null,
   "metadata": {
    "collapsed": false
   },
   "outputs": [],
   "source": [
    "def plotTofTimeDifferences(dfs):\n",
    "    layers=['time_L2','time_L1','time_L0']\n",
    "    for l in layers :\n",
    "        for df in dfs.itervalues() :\n",
    "            df['time_L3-'+l]=df['time_L3']-df[l]\n",
    "    for var in ['time_L3-time_L2','time_L3-time_L1','time_L3-time_L0']:\n",
    "        figure()\n",
    "        plt.title(var)\n",
    "        for (name,df) in dfs.iteritems():\n",
    "            print df[(df.time_L0 > -999) & (df.time_L1 > -999) & (df.time_L2 > -999) & (df.time_L3 > -999) ][var].hist(label=name,normed=True,alpha=0.5, bins=500, range=(-2,10), figsize=(15,10),histtype='step')\n",
    "        legend()\n",
    "    \n",
    "plotTofTimeDifferences({\"mc\":mc,\"data\":data})\n"
   ]
  },
  {
   "cell_type": "code",
   "execution_count": 68,
   "metadata": {
    "collapsed": false
   },
   "outputs": [
    {
     "data": {
      "text/plain": [
       "2         1\n",
       "4         2\n",
       "5         1\n",
       "10        1\n",
       "13        5\n",
       "18        1\n",
       "22        1\n",
       "25        1\n",
       "30        3\n",
       "31        4\n",
       "34        3\n",
       "35        2\n",
       "38       11\n",
       "44        9\n",
       "45        2\n",
       "49        8\n",
       "51        6\n",
       "55        1\n",
       "57        1\n",
       "61        1\n",
       "66        2\n",
       "67        4\n",
       "74        1\n",
       "81        2\n",
       "86       10\n",
       "88        7\n",
       "89        2\n",
       "90        2\n",
       "93        1\n",
       "101      13\n",
       "         ..\n",
       "80861     1\n",
       "80868     7\n",
       "80870     3\n",
       "80871     5\n",
       "80884    11\n",
       "80893     1\n",
       "80898     3\n",
       "80917     2\n",
       "80918     1\n",
       "80920     3\n",
       "80935     2\n",
       "80944     1\n",
       "80961     4\n",
       "80963     2\n",
       "80992     9\n",
       "81001     2\n",
       "81003     4\n",
       "81006     2\n",
       "81016     1\n",
       "81019     7\n",
       "81020     1\n",
       "81022    10\n",
       "81023    11\n",
       "81027     3\n",
       "81035     1\n",
       "81047    12\n",
       "81048     3\n",
       "81052     1\n",
       "81055     2\n",
       "81058     7\n",
       "Name: rgdtBin, dtype: int64"
      ]
     },
     "execution_count": 68,
     "metadata": {},
     "output_type": "execute_result"
    }
   ],
   "source": [
    "mc['rgdtBin']"
   ]
  }
 ],
 "metadata": {
  "kernelspec": {
   "display_name": "Python 2",
   "language": "python",
   "name": "python2"
  },
  "language_info": {
   "codemirror_mode": {
    "name": "ipython",
    "version": 2
   },
   "file_extension": ".py",
   "mimetype": "text/x-python",
   "name": "python",
   "nbconvert_exporter": "python",
   "pygments_lexer": "ipython2",
   "version": "2.7.10"
  }
 },
 "nbformat": 4,
 "nbformat_minor": 0
}
