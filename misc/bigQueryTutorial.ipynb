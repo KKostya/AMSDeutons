{
 "cells": [
  {
   "cell_type": "code",
   "execution_count": 1,
   "metadata": {
    "collapsed": false
   },
   "outputs": [
    {
     "name": "stdout",
     "output_type": "stream",
     "text": [
      "Populating the interactive namespace from numpy and matplotlib\n"
     ]
    }
   ],
   "source": [
    "import bigQueryPlotting as bq\n",
    "import matplotlib.pyplot as plt\n",
    "import pandas\n",
    "%pylab inline\n"
   ]
  },
  {
   "cell_type": "markdown",
   "metadata": {},
   "source": [
    "# BigQuery examples"
   ]
  },
  {
   "cell_type": "markdown",
   "metadata": {},
   "source": [
    "## A simple query: selecting helium"
   ]
  },
  {
   "cell_type": "code",
   "execution_count": 2,
   "metadata": {
    "collapsed": false
   },
   "outputs": [
    {
     "name": "stdout",
     "output_type": "stream",
     "text": [
      "Job not yet complete...\n",
      "   Unnamed: 0   Index         Run   Event       UTime    JMDCTime    ThetaS  \\\n",
      "0           0  638240  1367486517  638241  1367487877  1367487863 -0.900971   \n",
      "1           1  638241  1367486517  638242  1367487877  1367487863 -0.900971   \n",
      "2           2  638242  1367486517  638243  1367487877  1367487863 -0.900971   \n",
      "\n",
      "       PhiS  Livetime  Latitude    ...        chiq_0    chiq_1    chiq_2  \\\n",
      "0  4.146101  0.857087 -0.787907    ...      0.123368  0.123368  0.123368   \n",
      "1  4.146101  0.857087 -0.787907    ...      0.148435  0.148435  0.148435   \n",
      "2  4.146103  0.857087 -0.787907    ...      0.000000  0.000000  0.000000   \n",
      "\n",
      "     chiq_3    chiq_4    chiq_5  EdepTOF_0  EdepTOF_1  EdepTOF_2  EdepTOF_3  \n",
      "0  0.123368  0.123368  0.123368   2.738969   2.871590   3.217149   2.842419  \n",
      "1  0.148435  0.148435  0.148435   2.101750   1.516577   2.174285   3.522559  \n",
      "2  0.000000  0.000000  0.000000   0.000000   0.000000   0.000000   0.630541  \n",
      "\n",
      "[3 rows x 62 columns]\n"
     ]
    }
   ],
   "source": [
    "def selectHelium():\n",
    "    # Querying the database through the Pandas API                                                                                                                                                                   \n",
    "    # Looking for 3 helium events:                                                                                                                                                                                \n",
    "    aSimpleQuery='SELECT * FROM AMS.Data WHERE 1.8 < ChargeTOF < 2.2 LIMIT 3'\n",
    "    heliumData=pandas.read_gbq( aSimpleQuery, project_id = \"ams-test-kostya\" )\n",
    "\n",
    "    # Saving the DataFrame to file                                                                                                                                                                                   \n",
    "    heliumData.to_csv('heliumData.txt')\n",
    "\n",
    "    # The saved DataFrame can be retreived this way:                                                                                                                                                                 \n",
    "    heliumDataFromFile=pandas.read_csv('heliumData.txt');\n",
    "    print heliumDataFromFile\n",
    "\n",
    "selectHelium()"
   ]
  },
  {
   "cell_type": "markdown",
   "metadata": {},
   "source": [
    "## A join example : getting the exposure time above 5 GeV for our dataset   "
   ]
  },
  {
   "cell_type": "code",
   "execution_count": 3,
   "metadata": {
    "collapsed": false
   },
   "outputs": [
    {
     "name": "stdout",
     "output_type": "stream",
     "text": [
      "Job not yet complete...\n",
      "   exposure_time_above_5_GeV\n",
      "0                     401924\n"
     ]
    }
   ],
   "source": [
    "def exposureTime():\n",
    "    # The 'timeInSecInData' table contains one entry for every second present in our dataset                                                                                                                         \n",
    "    # The 'cutoffs' table contain one entry for every second during the 3 years of data.                                                                                                                             \n",
    "    #      goodSecond is a custom variable that indicates that the event is good (out of SAA, good lifetime fraction, etc.)                                                                                          \n",
    "    theCommand=\"\"\"                                                                                                                                                                                                   \n",
    "            SELECT                                                                                                                                                                                                   \n",
    "              SUM(AMS.cutoffs.Lifetime) as exposure_time_above_5_GeV                                                                                                                                                 \n",
    "            FROM                                                                                                                                                                                                     \n",
    "              AMS.cutoffs                                                                                                                                                                                            \n",
    "              JOIN AMS.timeInSecInData                                                                                                                                                                               \n",
    "              ON (AMS.timeInSecInData.JMDCTimeInSec = AMS.cutoffs.JMDCTime)                                                                                                                                          \n",
    "            WHERE                                                                                                                                                                                                    \n",
    "               AMS.cutoffs.goodSecond == 1                                                                                                                                                                           \n",
    "               AND                                                                                                                                                                                                   \n",
    "               IGRF40pos >= 5                                                                                                                                                                                        \n",
    "        \"\"\"\n",
    "\n",
    "    print pandas.read_gbq(theCommand, project_id='ams-test-kostya')\n",
    "\n",
    "exposureTime()"
   ]
  },
  {
   "cell_type": "markdown",
   "metadata": {},
   "source": [
    "## A 'group by' example : making a histogram by hand"
   ]
  },
  {
   "cell_type": "code",
   "execution_count": 4,
   "metadata": {
    "collapsed": false
   },
   "outputs": [
    {
     "name": "stdout",
     "output_type": "stream",
     "text": [
      "Job not yet complete...\n",
      "   binningRigidity   nEntries\n",
      "0                0  248011833\n",
      "1                1   16785252\n",
      "2                2   14634755\n",
      "3                3   11935302\n"
     ]
    }
   ],
   "source": [
    "def groupByExample():\n",
    "    # Notice the HAVING instead of the WHERE clause.\n",
    "    # It is used when setting a condition on an aliased variable                                                                                                                           \n",
    "    theCommand=\"\"\"                                                                                                                                                                                                   \n",
    "        SELECT                                                                                                                                                                                                       \n",
    "           CASE                                                                                                                                                                                                      \n",
    "               WHEN            R < 2 THEN 0                                                                                                                                                                          \n",
    "               WHEN R >= 2 AND R < 3 THEN 1                                                                                                                                                                          \n",
    "               WHEN R >= 3 AND R < 4 THEN 2                                                                                                                                                                          \n",
    "               WHEN R >= 4 AND R < 5 THEN 3                                                                                                                                                                          \n",
    "               ELSE -1                                                                                                                                                                                               \n",
    "           END as binningRigidity,                                                                                                                                                                                   \n",
    "           COUNT(1) as nEntries                                                                                                                                                                                                \n",
    "        FROM AMS.Data                                                                                                                                                                                                \n",
    "        GROUP BY binningRigidity                                                                                                                                                                                     \n",
    "        HAVING binningRigidity > -1                                                                                                                                                                                  \n",
    "        ORDER BY binningRigidity\"\"\"\n",
    "    print pandas.read_gbq(theCommand, project_id='ams-test-kostya')\n",
    "\n",
    "groupByExample()"
   ]
  },
  {
   "cell_type": "markdown",
   "metadata": {},
   "source": [
    " # Histograms with bigQueryPlotting.py"
   ]
  },
  {
   "cell_type": "code",
   "execution_count": 5,
   "metadata": {
    "collapsed": false
   },
   "outputs": [
    {
     "name": "stdout",
     "output_type": "stream",
     "text": [
      "SELECT (1+( INTEGER(FLOOR( ( (EnergyE) - (1))/(0.99) )) +0.5)*0.99) as binX,COUNT(1) FROM AMS.Data GROUP BY binX HAVING binX >= 1 AND binX < (100 ) ORDER BY binX\n",
      "loading : SELECT (1+( INTEGER(FLOOR( ( (EnergyE) - (1))/(0.99) )) +0.5)*0.99) as binX,COUNT(1) FROM AMS.Data GROUP BY binX HAVING binX >= 1 AND binX < (100 ) ORDER BY binX\n",
      "CACHED\n",
      "SELECT  INTEGER(FLOOR( ( (R) - (0))/(0.2) ))  as binX,  INTEGER(FLOOR( ( (BetaTOF) - (0.5))/(0.006) ))  as binY,COUNT(1) FROM AMS.Data GROUP BY binX, binY HAVING binX >= 0 AND binX < (100) AND binY >= 0 AND binY < (100) ORDER BY binX,binY\n",
      "loading : SELECT  INTEGER(FLOOR( ( (R) - (0))/(0.2) ))  as binX,  INTEGER(FLOOR( ( (BetaTOF) - (0.5))/(0.006) ))  as binY,COUNT(1) FROM AMS.Data GROUP BY binX, binY HAVING binX >= 0 AND binX < (100) AND binY >= 0 AND binY < (100) ORDER BY binX,binY\n",
      "CACHED\n"
     ]
    },
    {
     "data": {
      "image/png": "[encoded data removed]",
      "text/plain": [
       "<matplotlib.figure.Figure at 0x7f11a2493c10>"
      ]
     },
     "metadata": {},
     "output_type": "display_data"
    },
    {
     "data": {
      "image/png": "[encoded data removed]",
      "text/plain": [
       "<matplotlib.figure.Figure at 0x7f11a2493d10>"
      ]
     },
     "metadata": {},
     "output_type": "display_data"
    }
   ],
   "source": [
    "def histograms():\n",
    "    # 1D plotting: EnergyE distribution                                                                                                                                                                              \n",
    "    h=bq.hist(100,1,100,'EnergyE')\n",
    "    h.plot(logy=True, logx=True, title='EnergyE distribution')\n",
    "\n",
    "\n",
    "    # 2D plotting: rigidity [0-20] GeV Vs BetaTof [0.5-1]                                                                                                                                                            \n",
    "    h2d=bq.hist2d(100,0,20,100,0.5,1.1,'R','BetaTOF')\n",
    "    h2d.plot()\n",
    "\n",
    "    plt.show()\n",
    "\n",
    "histograms()\n"
   ]
  }
 ],
 "metadata": {
  "kernelspec": {
   "display_name": "Python 2",
   "language": "python",
   "name": "python2"
  },
  "language_info": {
   "codemirror_mode": {
    "name": "ipython",
    "version": 2
   },
   "file_extension": ".py",
   "mimetype": "text/x-python",
   "name": "python",
   "nbconvert_exporter": "python",
   "pygments_lexer": "ipython2",
   "version": "2.7.6"
  }
 },
 "nbformat": 4,
 "nbformat_minor": 0
}
