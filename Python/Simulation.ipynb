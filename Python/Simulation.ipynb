{
 "cells": [
  {
   "cell_type": "code",
   "execution_count": 1,
   "metadata": {
    "collapsed": false
   },
   "outputs": [
    {
     "name": "stdout",
     "output_type": "stream",
     "text": [
      "Populating the interactive namespace from numpy and matplotlib\n"
     ]
    }
   ],
   "source": [
    "import numpy as np\n",
    "import pandas as pd\n",
    "import scipy.special as sp\n",
    "%pylab inline"
   ]
  },
  {
   "cell_type": "code",
   "execution_count": 2,
   "metadata": {
    "collapsed": true
   },
   "outputs": [],
   "source": [
    "def generate(rate, tmax):\n",
    "    \"\"\"Generates events' timestamps given a rate [1/s] and maximal time [s]\"\"\"\n",
    "    N = 2*tmax/rate\n",
    "    t = np.cumsum(-np.log(np.random.sample(N))/rate)\n",
    "    return t[t<tmax]\n",
    "def check_poisson(times, lambd, step):\n",
    "    figsize(12,6)\n",
    "    subplot(121)\n",
    "    counts,_,_ = hist(times, np.arange(0,times[-1], step))\n",
    "    subplot(122)\n",
    "    _,bins,_ = hist(counts, normed=True)\n",
    "    x = np.linspace(bins[0],bins[-1],100)\n",
    "    def poisson(k,l): return np.exp(-l)*(l**k)/sp.gamma(k+1)\n",
    "    plot(x, poisson(x,lambd*step), 'k', lw=2)"
   ]
  },
  {
   "cell_type": "code",
   "execution_count": 8,
   "metadata": {
    "collapsed": false
   },
   "outputs": [],
   "source": [
    "times = generate(0.25, 10000000)\n",
    "#check_poisson(times, 0.25, 50)"
   ]
  },
  {
   "cell_type": "code",
   "execution_count": 9,
   "metadata": {
    "collapsed": false
   },
   "outputs": [],
   "source": [
    "data = pd.DataFrame({\"time\":times})\n",
    "data['TrueR'] = 1+10*np.random.sample(len(data))\n",
    "data['UnbiasedTrig'] = data.index.values % 100 == 0\n",
    "data['PhysTrig'] = np.random.sample(len(data)) < 0.94"
   ]
  },
  {
   "cell_type": "code",
   "execution_count": 10,
   "metadata": {
    "collapsed": false
   },
   "outputs": [
    {
     "name": "stdout",
     "output_type": "stream",
     "text": [
      "I've generated 2501612 events, of which N = 2352855 triggered\n",
      "Accounting for the bug in the trigger, we have N(11) = 23521, N(10)=2351359 and N(00)=1496 \n",
      "So, to get the efficiency we do N/(100*(N(00)+N(11))) = 0.940502458328\n"
     ]
    }
   ],
   "source": [
    "N = sum(data['PhysTrig'] | data['UnbiasedTrig'])\n",
    "N00 = sum((~data['PhysTrig']) & data['UnbiasedTrig'])\n",
    "N10 = sum(data['PhysTrig'])\n",
    "N11 = sum((data['PhysTrig']) & data['UnbiasedTrig'])\n",
    "\n",
    "print \"I've generated {0} events, of which N = {1} triggered\".format(len(data),N)\n",
    "print \"Accounting for the bug in the trigger, we have N(11) = {0}, N(10)={1} and N(00)={2} \".format(N11,N10,N00)\n",
    "print \"So, to get the efficiency we do N/(100*(N(00)+N(11))) = {0}\".format(N/(100.*(N00+N11)))"
   ]
  },
  {
   "cell_type": "code",
   "execution_count": null,
   "metadata": {
    "collapsed": true
   },
   "outputs": [],
   "source": []
  }
 ],
 "metadata": {
  "kernelspec": {
   "display_name": "Python 2",
   "language": "python",
   "name": "python2"
  },
  "language_info": {
   "codemirror_mode": {
    "name": "ipython",
    "version": 2
   },
   "file_extension": ".py",
   "mimetype": "text/x-python",
   "name": "python",
   "nbconvert_exporter": "python",
   "pygments_lexer": "ipython2",
   "version": "2.7.6"
  }
 },
 "nbformat": 4,
 "nbformat_minor": 0
}
