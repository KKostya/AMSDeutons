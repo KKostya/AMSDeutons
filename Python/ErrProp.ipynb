{
 "cells": [
  {
   "cell_type": "code",
   "execution_count": 11,
   "metadata": {
    "collapsed": false
   },
   "outputs": [],
   "source": [
    "from sympy import *\n",
    "init_printing()"
   ]
  },
  {
   "cell_type": "code",
   "execution_count": 15,
   "metadata": {
    "collapsed": false
   },
   "outputs": [],
   "source": [
    "x, y, dx, dy = symbols(\"x,y,dx, dy\")"
   ]
  },
  {
   "cell_type": "code",
   "execution_count": 24,
   "metadata": {
    "collapsed": false
   },
   "outputs": [
    {
     "data": {
      "image/png": "[encoded data removed]",
      "text/latex": [
       "$$\\frac{x}{x + 100 y}$$"
      ],
      "text/plain": [
       "    x    \n",
       "─────────\n",
       "x + 100⋅y"
      ]
     },
     "execution_count": 24,
     "metadata": {},
     "output_type": "execute_result"
    }
   ],
   "source": [
    "e = x/(x+100*y)\n",
    "e"
   ]
  },
  {
   "cell_type": "code",
   "execution_count": 17,
   "metadata": {
    "collapsed": false
   },
   "outputs": [
    {
     "data": {
      "image/png": "[encoded data removed]",
      "text/latex": [
       "$$- \\frac{x}{\\left(x + 100 y\\right)^{2}} + \\frac{1}{x + 100 y}$$"
      ],
      "text/plain": [
       "       x             1    \n",
       "- ──────────── + ─────────\n",
       "             2   x + 100⋅y\n",
       "  (x + 100⋅y)             "
      ]
     },
     "execution_count": 17,
     "metadata": {},
     "output_type": "execute_result"
    }
   ],
   "source": [
    "diff(e, x, 1)"
   ]
  },
  {
   "cell_type": "code",
   "execution_count": 21,
   "metadata": {
    "collapsed": false
   },
   "outputs": [
    {
     "data": {
      "image/png": "[encoded data removed]",
      "text/latex": [
       "$$dx^{2} \\left(- \\frac{x}{\\left(x + 100 y\\right)^{2}} + \\frac{1}{x + 100 y}\\right)^{2} - \\frac{100 dx dy x}{\\left(x + 100 y\\right)^{2}} \\left(- \\frac{x}{\\left(x + 100 y\\right)^{2}} + \\frac{1}{x + 100 y}\\right) + \\frac{10000 dy^{2} x^{2}}{\\left(x + 100 y\\right)^{4}}$$"
      ],
      "text/plain": [
       "                                                ⎛       x             1    ⎞  \n",
       "                                    100⋅dx⋅dy⋅x⋅⎜- ──────────── + ─────────⎟  \n",
       "                                2               ⎜             2   x + 100⋅y⎟  \n",
       "  2 ⎛       x             1    ⎞                ⎝  (x + 100⋅y)             ⎠  \n",
       "dx ⋅⎜- ──────────── + ─────────⎟  - ──────────────────────────────────────── +\n",
       "    ⎜             2   x + 100⋅y⎟                             2                \n",
       "    ⎝  (x + 100⋅y)             ⎠                  (x + 100⋅y)                 \n",
       "\n",
       "             \n",
       "             \n",
       "         2  2\n",
       " 10000⋅dy ⋅x \n",
       " ────────────\n",
       "            4\n",
       " (x + 100⋅y) "
      ]
     },
     "execution_count": 21,
     "metadata": {},
     "output_type": "execute_result"
    }
   ],
   "source": [
    "err = dx**2 * diff(e, x, 1)**2 + dy**2 * diff(e, y, 1)**2 + dx*dy * diff(e, x, 1)*diff(e, y, 1)\n",
    "err"
   ]
  },
  {
   "cell_type": "code",
   "execution_count": 26,
   "metadata": {
    "collapsed": false
   },
   "outputs": [
    {
     "data": {
      "image/png": "[encoded data removed]",
      "text/latex": [
       "$$\\frac{1}{\\left(x + 100 y\\right)^{4}} \\left(10000 dx^{2} y^{2} - 10000 dx dy x y + 10000 dy^{2} x^{2}\\right)$$"
      ],
      "text/plain": [
       "      ⎛  2  2                 2  2⎞\n",
       "10000⋅⎝dx ⋅y  - dx⋅dy⋅x⋅y + dy ⋅x ⎠\n",
       "───────────────────────────────────\n",
       "                       4           \n",
       "            (x + 100⋅y)            "
      ]
     },
     "execution_count": 26,
     "metadata": {},
     "output_type": "execute_result"
    }
   ],
   "source": [
    "err = factor(expand(err))\n",
    "err "
   ]
  },
  {
   "cell_type": "code",
   "execution_count": 32,
   "metadata": {
    "collapsed": false
   },
   "outputs": [
    {
     "data": {
      "image/png": "[encoded data removed]",
      "text/latex": [
       "$$\\frac{0.0053532698175204}{y}$$"
      ],
      "text/plain": [
       "0.0053532698175204\n",
       "──────────────────\n",
       "        y         "
      ]
     },
     "execution_count": 32,
     "metadata": {},
     "output_type": "execute_result"
    }
   ],
   "source": [
    "factor(expand(err.subs(dy, sqrt(y)).subs(dx, sqrt(x)).subs(x, 10.0*y)))"
   ]
  },
  {
   "cell_type": "code",
   "execution_count": null,
   "metadata": {
    "collapsed": true
   },
   "outputs": [],
   "source": []
  }
 ],
 "metadata": {
  "kernelspec": {
   "display_name": "Python 2",
   "language": "python",
   "name": "python2"
  },
  "language_info": {
   "codemirror_mode": {
    "name": "ipython",
    "version": 2
   },
   "file_extension": ".py",
   "mimetype": "text/x-python",
   "name": "python",
   "nbconvert_exporter": "python",
   "pygments_lexer": "ipython2",
   "version": "2.7.6"
  }
 },
 "nbformat": 4,
 "nbformat_minor": 0
}
