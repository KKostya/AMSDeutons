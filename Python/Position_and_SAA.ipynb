{
 "cells": [
  {
   "cell_type": "code",
   "execution_count": 4,
   "metadata": {
    "collapsed": false
   },
   "outputs": [
    {
     "name": "stdout",
     "output_type": "stream",
     "text": [
      "Populating the interactive namespace from numpy and matplotlib\n"
     ]
    }
   ],
   "source": [
    "%pylab inline\n",
    "import ROOT\n",
    "import root_numpy\n",
    "import pandas as pd\n",
    "import glob\n",
    "import os.path"
   ]
  },
  {
   "cell_type": "code",
   "execution_count": 5,
   "metadata": {
    "collapsed": true
   },
   "outputs": [],
   "source": [
    "from pyAmsUtils import *"
   ]
  },
  {
   "cell_type": "code",
   "execution_count": 3,
   "metadata": {
    "collapsed": false
   },
   "outputs": [],
   "source": [
    "filenames = sorted(glob.glob(\"/data/13*.root\"), key=os.path.getmtime)[:-1]\n",
    "\n",
    "def get_bits_names(f):\n",
    "    tfile = ROOT.TFile(filenames[0]) \n",
    "    return str(tfile.Get(\"infos/selectionBits\").GetString()).split(',')\n",
    "\n",
    "selBits = get_bits_names(filenames[0])\n",
    "\n",
    "def get_frame(f, branches=None):\n",
    "    tfile = ROOT.TFile(f)\n",
    "    tree  = tfile.Get(\"selections\")\n",
    "    return tree_to_frame(tree, branches=branches) "
   ]
  },
  {
   "cell_type": "code",
   "execution_count": 16,
   "metadata": {
    "collapsed": true
   },
   "outputs": [],
   "source": [
    "def second_wise(filenames):\n",
    "    frames = []\n",
    "    progress= Progress(80, len(filenames))\n",
    "    for i,f in enumerate(filenames):\n",
    "        progress.step(i)\n",
    "        data = get_frame(f)\n",
    "        frames.append(data[~data['JMDCTime'].duplicated()])\n",
    "    return pd.concat(frames)"
   ]
  },
  {
   "cell_type": "code",
   "execution_count": 21,
   "metadata": {
    "collapsed": false
   },
   "outputs": [
    {
     "data": {
      "text/plain": [
       "0         0\n",
       "498       0\n",
       "1285      0\n",
       "2056      0\n",
       "2841      0\n",
       "3619      0\n",
       "4406      0\n",
       "5194      0\n",
       "6006      0\n",
       "6781      0\n",
       "7539      0\n",
       "8265      0\n",
       "8985      0\n",
       "9758      0\n",
       "10534     0\n",
       "11239     0\n",
       "12038     0\n",
       "12788     0\n",
       "13501     0\n",
       "14278     0\n",
       "15016     0\n",
       "15771     0\n",
       "16568     0\n",
       "17301     0\n",
       "18090     0\n",
       "18863     0\n",
       "19621     0\n",
       "20370     0\n",
       "21160     0\n",
       "21946     0\n",
       "         ..\n",
       "808973    0\n",
       "810043    0\n",
       "811074    0\n",
       "812160    0\n",
       "813238    0\n",
       "814282    0\n",
       "815317    0\n",
       "816414    0\n",
       "817499    0\n",
       "818584    0\n",
       "819662    0\n",
       "820778    0\n",
       "821813    0\n",
       "822898    0\n",
       "823984    0\n",
       "825034    0\n",
       "826074    0\n",
       "827172    0\n",
       "828263    0\n",
       "829360    0\n",
       "830470    0\n",
       "831536    0\n",
       "832598    0\n",
       "833684    0\n",
       "834771    0\n",
       "835859    0\n",
       "836926    0\n",
       "837970    0\n",
       "839040    0\n",
       "840110    0\n",
       "Name: UTime, dtype: uint32"
      ]
     },
     "execution_count": 21,
     "metadata": {},
     "output_type": "execute_result"
    }
   ],
   "source": [
    "d['UTime']"
   ]
  },
  {
   "cell_type": "code",
   "execution_count": 17,
   "metadata": {
    "collapsed": false
   },
   "outputs": [
    {
     "name": "stdout",
     "output_type": "stream",
     "text": [
      "--------------------------------------------------------------------------------\n",
      "-------------------------------------------------------------------------------"
     ]
    }
   ],
   "source": [
    "d = second_wise(filenames)"
   ]
  },
  {
   "cell_type": "code",
   "execution_count": 23,
   "metadata": {
    "collapsed": false
   },
   "outputs": [],
   "source": [
    "tfile = ROOT.TFile(filenames[0])\n",
    "tree  = tfile.Get(\"selections\")"
   ]
  },
  {
   "cell_type": "code",
   "execution_count": 24,
   "metadata": {
    "collapsed": false
   },
   "outputs": [
    {
     "ename": "KeyboardInterrupt",
     "evalue": "",
     "output_type": "error",
     "traceback": [
      "\u001b[1;31m---------------------------------------------------------------------------\u001b[0m",
      "\u001b[1;31mKeyboardInterrupt\u001b[0m                         Traceback (most recent call last)",
      "\u001b[1;32m<ipython-input-24-2e327773f3f9>\u001b[0m in \u001b[0;36m<module>\u001b[1;34m()\u001b[0m\n\u001b[1;32m----> 1\u001b[1;33m \u001b[0mtree\u001b[0m\u001b[1;33m.\u001b[0m\u001b[0mScan\u001b[0m\u001b[1;33m(\u001b[0m\u001b[1;33m)\u001b[0m\u001b[1;33m\u001b[0m\u001b[0m\n\u001b[0m",
      "\u001b[1;31mKeyboardInterrupt\u001b[0m: "
     ]
    }
   ],
   "source": [
    "tree.Scan()"
   ]
  },
  {
   "cell_type": "code",
   "execution_count": null,
   "metadata": {
    "collapsed": true
   },
   "outputs": [],
   "source": []
  }
 ],
 "metadata": {
  "kernelspec": {
   "display_name": "Python 2",
   "language": "python",
   "name": "python2"
  },
  "language_info": {
   "codemirror_mode": {
    "name": "ipython",
    "version": 2
   },
   "file_extension": ".py",
   "mimetype": "text/x-python",
   "name": "python",
   "nbconvert_exporter": "python",
   "pygments_lexer": "ipython2",
   "version": "2.7.6"
  }
 },
 "nbformat": 4,
 "nbformat_minor": 0
}
